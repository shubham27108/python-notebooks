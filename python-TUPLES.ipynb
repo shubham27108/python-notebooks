{
 "cells": [
  {
   "cell_type": "code",
   "execution_count": null,
   "metadata": {},
   "outputs": [],
   "source": [
    "a = 10\n",
    "b= 20"
   ]
  },
  {
   "cell_type": "code",
   "execution_count": null,
   "metadata": {},
   "outputs": [],
   "source": [
    "a,b = 1,2"
   ]
  },
  {
   "cell_type": "code",
   "execution_count": null,
   "metadata": {},
   "outputs": [],
   "source": [
    "a"
   ]
  },
  {
   "cell_type": "code",
   "execution_count": null,
   "metadata": {},
   "outputs": [],
   "source": [
    "a = 1,2\n",
    "type(a)"
   ]
  },
  {
   "cell_type": "code",
   "execution_count": null,
   "metadata": {},
   "outputs": [],
   "source": [
    "a = [1]\n",
    "type(a)"
   ]
  },
  {
   "cell_type": "code",
   "execution_count": null,
   "metadata": {},
   "outputs": [],
   "source": [
    "a = (1)\n",
    "type(a)"
   ]
  },
  {
   "cell_type": "code",
   "execution_count": null,
   "metadata": {},
   "outputs": [],
   "source": [
    "a = (1,)"
   ]
  },
  {
   "cell_type": "code",
   "execution_count": null,
   "metadata": {},
   "outputs": [],
   "source": [
    "type(a)"
   ]
  },
  {
   "cell_type": "code",
   "execution_count": null,
   "metadata": {},
   "outputs": [],
   "source": [
    "l =[1,2,3]\n",
    "\n",
    "# create a tuple of numbers\n",
    "py_tuple = (33, 55, 77)\n",
    "print(\"A tuple of numbers:\", py_tuple)\n",
    "\n",
    "# create a tuple of mixed numbers\n",
    "# such as integer, float, imaginary\n",
    "py_tuple = (33, 3.3, 3+3j)\n",
    "print(\"A tuple of mixed numbers:\", py_tuple)\n",
    "\n",
    "# create a tuple of mixed data types\n",
    "# such as numbers, strings, lists\n",
    "py_tuple = (33, \"33\", [3, 3])\n",
    "print(\"A tuple of mixed data types:\", py_tuple)\n",
    "\n",
    "# create a tuple of tuples\n",
    "# i.e. a nested tuple\n",
    "py_tuple = (('x', 'y', 'z'), ('X', 'Y', 'Z'))\n",
    "print(\"A tuple of tuples:\", py_tuple)\n",
    "print(len(py_tuple))\n",
    "py_tuple1 = ('x', 'y', 'z', ('X', 'Y', 'Z'))\n",
    "print(len(py_tuple1))"
   ]
  },
  {
   "cell_type": "code",
   "execution_count": null,
   "metadata": {},
   "outputs": [],
   "source": [
    "# empty tuple\n",
    "tup1 = ()\n",
    "\n",
    "# a tuple with single data item\n",
    "tup2 = (99,)\n",
    "\n",
    "# tuple of strings\n",
    "tup3 = (\"hi\", \"hello\", \"bye\")\n",
    "\n",
    "# tuple of int, float, string\n",
    "tup4 = (1, 2.8, \"Hello World\")\n",
    "\n",
    "# tuple of string and list\n",
    "tup5 = (\"Book\", [1, 2, 3])\n",
    "\n",
    "# tuples inside another tuple\n",
    "# nested tuple\n",
    "tup6 = ((2, 3, 4), (1, 2, \"hi\"))"
   ]
  },
  {
   "cell_type": "code",
   "execution_count": null,
   "metadata": {},
   "outputs": [],
   "source": [
    "tup1"
   ]
  },
  {
   "cell_type": "code",
   "execution_count": null,
   "metadata": {},
   "outputs": [],
   "source": [
    "tup5"
   ]
  },
  {
   "cell_type": "code",
   "execution_count": null,
   "metadata": {},
   "outputs": [],
   "source": [
    "# create an empty tuple\n",
    "py_tuple = ()\n",
    "print(\"A blank tuple:\", py_tuple)\n",
    "\n"
   ]
  },
  {
   "cell_type": "code",
   "execution_count": null,
   "metadata": {},
   "outputs": [],
   "source": [
    "# create a tuple without using round brackets\n",
    "py_tuple = 33, 55, 77, 12\n",
    "print(py_tuple)\n",
    "type(py_tuple)\n",
    "#print(\"A tuple set without parenthesis:\", py_tuple, \"type:\", type(py_tuple))"
   ]
  },
  {
   "cell_type": "code",
   "execution_count": null,
   "metadata": {},
   "outputs": [],
   "source": [
    "a,b,c,d = 1,2,3,4"
   ]
  },
  {
   "cell_type": "code",
   "execution_count": null,
   "metadata": {},
   "outputs": [],
   "source": [
    "a"
   ]
  },
  {
   "cell_type": "code",
   "execution_count": null,
   "metadata": {},
   "outputs": [],
   "source": [
    "py_tuple"
   ]
  },
  {
   "cell_type": "code",
   "execution_count": null,
   "metadata": {},
   "outputs": [],
   "source": [
    "py_tuple[1]"
   ]
  },
  {
   "cell_type": "code",
   "execution_count": null,
   "metadata": {},
   "outputs": [],
   "source": [
    "l = [1,23]"
   ]
  },
  {
   "cell_type": "code",
   "execution_count": null,
   "metadata": {},
   "outputs": [],
   "source": [
    "l[1]=45"
   ]
  },
  {
   "cell_type": "code",
   "execution_count": null,
   "metadata": {},
   "outputs": [],
   "source": [
    "l"
   ]
  },
  {
   "cell_type": "code",
   "execution_count": null,
   "metadata": {},
   "outputs": [],
   "source": [
    "py_tuple[1] = 12"
   ]
  },
  {
   "cell_type": "code",
   "execution_count": null,
   "metadata": {},
   "outputs": [],
   "source": [
    "py_tuple"
   ]
  },
  {
   "cell_type": "code",
   "execution_count": null,
   "metadata": {},
   "outputs": [],
   "source": [
    "# creating a tuple from a list\n",
    "s = [33, 55 , 77]\n",
    "print(s)\n",
    "print(type(s))\n",
    "py_tuple = tuple(s)\n",
    "print(py_tuple)\n",
    "print(type(py_tuple))\n",
    "\n",
    "l = [1,3,6]\n",
    "py_tuple = tuple(l)\n",
    "py_tuple"
   ]
  },
  {
   "cell_type": "code",
   "execution_count": null,
   "metadata": {},
   "outputs": [],
   "source": [
    "t = (1,2,3,4)\n",
    "type(t)\n",
    "l = list(t)\n",
    "l.append(5)\n",
    "t = tuple(l)\n"
   ]
  },
  {
   "cell_type": "code",
   "execution_count": null,
   "metadata": {},
   "outputs": [],
   "source": [
    "t"
   ]
  },
  {
   "cell_type": "code",
   "execution_count": null,
   "metadata": {},
   "outputs": [],
   "source": [
    "# creating a tuple from a list\n",
    "a= tuple([33, 55 , 77,12])\n",
    "print(type(a))\n",
    "a"
   ]
  },
  {
   "cell_type": "code",
   "execution_count": null,
   "metadata": {},
   "outputs": [],
   "source": [
    "a[2]"
   ]
  },
  {
   "cell_type": "code",
   "execution_count": null,
   "metadata": {},
   "outputs": [],
   "source": [
    "# A single element surrounded by parenthesis will create a string instead of a tuple\n",
    "py_tuple = (22,)\n",
    "type(py_tuple)"
   ]
  },
  {
   "cell_type": "code",
   "execution_count": null,
   "metadata": {},
   "outputs": [],
   "source": [
    "# You need to place a comma after the first element to create a tuple of size \"one\"\n",
    "py_tuple = ('single',)\n",
    "print(py_tuple)\n",
    "type(py_tuple)"
   ]
  },
  {
   "cell_type": "code",
   "execution_count": null,
   "metadata": {},
   "outputs": [],
   "source": [
    "# You can use a list of one element and convert it to a tuple\n",
    "py_tuple = tuple(['single'])\n",
    "print(type(py_tuple))\n",
    "print(py_tuple)"
   ]
  },
  {
   "cell_type": "code",
   "execution_count": null,
   "metadata": {},
   "outputs": [],
   "source": [
    "# You can use a set of one element and convert it to a tuple\n",
    "py_tuple = tuple({'single'})\n",
    "type(py_tuple)\n",
    "py_tuple"
   ]
  },
  {
   "cell_type": "code",
   "execution_count": null,
   "metadata": {},
   "outputs": [],
   "source": [
    "# accessing first element\n",
    "\n",
    "# Via Indexing\n",
    "# The simplest is the direct access method where you use the index operator\n",
    "# [] to pick an item from the tuple. \n",
    "# You can start indexing from the 0th position."
   ]
  },
  {
   "cell_type": "code",
   "execution_count": null,
   "metadata": {},
   "outputs": [],
   "source": [
    "vowel_tuple = ('a','e','i','o','u')\n",
    "\n",
    "print(\"The tuple:\", vowel_tuple, \"Length:\", len(vowel_tuple))\n",
    "\n",
    "# Indexing the first element\n",
    "print(\"OP(vowel_tuple[0]):\", vowel_tuple[0])\n",
    "\n",
    "# Indexing the last element\n",
    "print(\"OP(vowel_tuple[length-1]):\", vowel_tuple[len(vowel_tuple) - 2])\n",
    "vowel_tuple[-1]"
   ]
  },
  {
   "cell_type": "code",
   "execution_count": null,
   "metadata": {},
   "outputs": [],
   "source": [
    "print(\"OP(vowel_tuple[length-1]):\", vowel_tuple[len(vowel_tuple) +1])"
   ]
  },
  {
   "cell_type": "code",
   "execution_count": null,
   "metadata": {},
   "outputs": [],
   "source": [
    "print(vowel_tuple[len(vowel_tuple)-1])"
   ]
  },
  {
   "cell_type": "code",
   "execution_count": null,
   "metadata": {},
   "outputs": [],
   "source": [
    "# Indexing a non-existent member\n",
    "# will raise the IndexError\n",
    "try:\n",
    "    print(vowel_tuple[len(vowel_tuple)+1])\n",
    "except Exception as ex:\n",
    "    print(\"OP(vowel_tuple[length+1]) Error:\", ex)"
   ]
  },
  {
   "cell_type": "code",
   "execution_count": null,
   "metadata": {},
   "outputs": [],
   "source": [
    "vowel_tuple[0.0]"
   ]
  },
  {
   "cell_type": "code",
   "execution_count": null,
   "metadata": {
    "scrolled": true
   },
   "outputs": [],
   "source": [
    "# Indexing in a tuple of tuples\n",
    "t_o_t = (('jan', 'feb', 'mar'), ('sun', 'mon', 'wed'),(2,4,8,9))\n",
    "print(t_o_t[1])\n",
    "\n",
    "# Accessing elements from the first  tuple\n",
    "print(\"OP(t_o_t[0][1]):\", t_o_t[0:2])\n",
    "\n",
    "# Accessing elements from the second sub tuple\n",
    "print(\"OP(t_o_t[1][2]):\", t_o_t[1][2])"
   ]
  },
  {
   "cell_type": "code",
   "execution_count": null,
   "metadata": {},
   "outputs": [],
   "source": [
    "# Via Reverse Indexing\n",
    "\n",
    "# The reverse indexing works in the following manner.\n",
    "    # The index -1 represents the last item.\n",
    "    # An index with value -2 will refer to the second item from the rear end."
   ]
  },
  {
   "cell_type": "code",
   "execution_count": null,
   "metadata": {},
   "outputs": [],
   "source": [
    "vowels = ('a','e','i','o','u')\n",
    "vowels\n",
    "\n",
    "print(vowels[-1])\n",
    "print(vowels[-2])\n",
    "print(vowels[-5])"
   ]
  },
  {
   "cell_type": "code",
   "execution_count": null,
   "metadata": {},
   "outputs": [],
   "source": [
    "# Via Slicing Operator"
   ]
  },
  {
   "cell_type": "code",
   "execution_count": null,
   "metadata": {},
   "outputs": [],
   "source": [
    "# If you need to access not one but more than one element from a tuple, \n",
    "# then Python’s slicing operator can come to use.\n",
    "\n",
    "# The single colon, i.e., a “:” represents the slicing operator in Python."
   ]
  },
  {
   "cell_type": "code",
   "execution_count": null,
   "metadata": {},
   "outputs": [],
   "source": [
    "weekdays = ('mon', 'tue', 'wed' ,'thu', 'fri', 'sat', 'sun')\n",
    "weekdays"
   ]
  },
  {
   "cell_type": "code",
   "execution_count": null,
   "metadata": {},
   "outputs": [],
   "source": [
    "# accessing elements leaving the first one\n",
    "weekdays[1:]"
   ]
  },
  {
   "cell_type": "code",
   "execution_count": null,
   "metadata": {},
   "outputs": [],
   "source": [
    "# accessing elements between the first and fifth positions\n",
    "# excluding the ones at the first and fifth position\n",
    "weekdays[1:5]"
   ]
  },
  {
   "cell_type": "code",
   "execution_count": null,
   "metadata": {},
   "outputs": [],
   "source": [
    "# accessing elements after the fifth position\n",
    "weekdays[5:]"
   ]
  },
  {
   "cell_type": "code",
   "execution_count": null,
   "metadata": {},
   "outputs": [],
   "source": [
    "weekdays"
   ]
  },
  {
   "cell_type": "code",
   "execution_count": null,
   "metadata": {},
   "outputs": [],
   "source": [
    "# accessing elements that appears after\n",
    "# counting five from the rear end\n",
    "weekdays[1:-5]"
   ]
  },
  {
   "cell_type": "code",
   "execution_count": null,
   "metadata": {},
   "outputs": [],
   "source": [
    "weekdays[::-6]"
   ]
  },
  {
   "cell_type": "code",
   "execution_count": null,
   "metadata": {},
   "outputs": [],
   "source": [
    "# accessing five elements from the rear\n",
    "weekdays[-5:-2]"
   ]
  },
  {
   "cell_type": "code",
   "execution_count": null,
   "metadata": {},
   "outputs": [],
   "source": [
    "# accessing elements from the start to end\n",
    "weekdays[:]"
   ]
  },
  {
   "cell_type": "code",
   "execution_count": null,
   "metadata": {},
   "outputs": [],
   "source": [
    "# Similar to list and strings we can use negative indexes to access the tuple \n",
    "# elements from the end.\n",
    "# -1 to access last element, -2 to access second last and so on.\n",
    "my_data = (1, 2, \"Kevin\", 8.9)\n",
    "\n",
    "# accessing last element\n",
    "# prints 8.9\n",
    "print(my_data[-1])\n",
    "\n",
    "# prints 2\n",
    "print(my_data[-3])"
   ]
  },
  {
   "cell_type": "code",
   "execution_count": null,
   "metadata": {},
   "outputs": [],
   "source": [
    "# Accessing elements from nested tuples\n",
    "my_data = (1, \"Steve\", (11, 22, 33))\n",
    "\n",
    "\n",
    "print(my_data[1][3])\n",
    "\n",
    "print(my_data[2][1])"
   ]
  },
  {
   "cell_type": "code",
   "execution_count": null,
   "metadata": {},
   "outputs": [],
   "source": [
    "# changing the tuple element\n",
    "my_data = (1, [9, 8, 7], \"World\")\n",
    "print(my_data)\n",
    "\n",
    "\n",
    "print(my_data[1])\n",
    "my_data[1][0] = 101\n",
    "\n",
    "my_data"
   ]
  },
  {
   "cell_type": "code",
   "execution_count": null,
   "metadata": {},
   "outputs": [],
   "source": [
    "# changing the tuple element, which are mutable\n",
    "world = \"NEW\"\n",
    "my_data = (1, [9, 8, 7], \"BLUE\",world)\n",
    "print(my_data)\n",
    "\n",
    "# changing the element of the list\n",
    "# this is valid because list is mutable\n",
    "world= \"Happy\"\n",
    "#my_data[2] = \"RED\"\n",
    "#my_data[0]= 10\n",
    "my_data = (1, [9, 8, 7], world)\n",
    "my_data[1][1]=10\n",
    "print(my_data)"
   ]
  },
  {
   "cell_type": "code",
   "execution_count": null,
   "metadata": {},
   "outputs": [],
   "source": [
    "# deleting tuple elements\n",
    "my_data = (1, 2, 3, 4, 5, 6,\"ABC\")\n",
    "print(my_data)\n",
    "\n",
    "# not possible\n",
    "# error\n",
    "#del my_data[2]\n",
    "\n",
    "# deleting entire tuple is possible\n",
    "del my_data\n",
    "\n"
   ]
  },
  {
   "cell_type": "code",
   "execution_count": null,
   "metadata": {},
   "outputs": [],
   "source": [
    "my_data"
   ]
  },
  {
   "cell_type": "code",
   "execution_count": null,
   "metadata": {},
   "outputs": [],
   "source": [
    "# Slicing operation in tuples\n",
    "my_data = (11, 22, 33, 44, 55, 66, 77, 88, 99)\n",
    "print(my_data)\n",
    "\n",
    "# elements from 3rd to 5th\n",
    "# prints (33, 44, 55)\n",
    "print(my_data[2:5])\n",
    "\n",
    "# elements from start to 4th\n",
    "# prints (11, 22, 33, 44)\n",
    "print(my_data[:4])\n",
    "\n",
    "# elements from 5th to end\n",
    "# prints (55, 66, 77, 88, 99)\n",
    "print(my_data[4:])\n",
    "\n",
    "# elements from 5th to second last\n",
    "# prints (55, 66, 77, 88)\n",
    "print(my_data[4:-1])\n",
    "\n",
    "# displaying entire tuple\n",
    "print(my_data[:])"
   ]
  },
  {
   "cell_type": "code",
   "execution_count": null,
   "metadata": {},
   "outputs": [],
   "source": [
    "# Membership Test in Tuples\n",
    "# in: Checks whether an element exists in the specified tuple.\n",
    "# not in: Checks whether an element does not exist in the specified tuple.\n",
    "my_data = (11, 22, 33, 44, 55, 66, 77, 88, 99)\n",
    "print(my_data)\n",
    "\n",
    "# true\n",
    "print(22 in my_data)\n",
    "\n",
    "# false\n",
    "print(2 in my_data)\n",
    "\n",
    "# false\n",
    "print(88 not in my_data)\n",
    "\n",
    "# true\n",
    "print(101 not in my_data)"
   ]
  },
  {
   "cell_type": "code",
   "execution_count": null,
   "metadata": {},
   "outputs": [],
   "source": [
    "# Iterating a tuple\n",
    "# tuple of fruits\n",
    "my_tuple = (\"Apple\", \"Orange\", \"Grapes\", \"Banana\")\n",
    "\n",
    "# iterating over tuple elements\n",
    "for fruit in my_tuple:\n",
    "     print(fruit)"
   ]
  },
  {
   "cell_type": "code",
   "execution_count": null,
   "metadata": {},
   "outputs": [],
   "source": [
    "# tuple methods\n",
    "my_tuple = ('a','p','p','l','e','p')\n",
    "\n",
    "# Count\n",
    "print(my_tuple.count('p'))\n",
    "\n",
    "# Index\n",
    "print(my_tuple.index('p'))"
   ]
  },
  {
   "cell_type": "code",
   "execution_count": null,
   "metadata": {},
   "outputs": [],
   "source": [
    "# How Can You Delete A Tuple\n",
    "py_tuple = (['p','a'], 'y', 't', 'h', 'o', 'n')\n",
    "#a =list (py_tuple)\n",
    "#print(a)\n",
    "\n",
    "del py_tuple[0][1]"
   ]
  },
  {
   "cell_type": "code",
   "execution_count": null,
   "metadata": {},
   "outputs": [],
   "source": [
    "py_tuple"
   ]
  },
  {
   "cell_type": "code",
   "execution_count": null,
   "metadata": {},
   "outputs": [],
   "source": [
    "del py_tuple[0]"
   ]
  },
  {
   "cell_type": "code",
   "execution_count": null,
   "metadata": {},
   "outputs": [],
   "source": [
    "py_tuple = ('p', 'y', 't', 'h', 'o', 'n')\n",
    "\n",
    "# you can't delete a particular item from a tuple\n",
    "try:\n",
    "    del py_tuple[0]\n",
    "except Exception as abc:\n",
    "    print(abc)"
   ]
  },
  {
   "cell_type": "code",
   "execution_count": null,
   "metadata": {},
   "outputs": [],
   "source": [
    "# but you can delete a whole tuple\n",
    "del py_tuple\n",
    "try:\n",
    "    print(py_tuple)\n",
    "except Exception as ex:\n",
    "    print(\"print(py_tuple) => Error:\", ex)"
   ]
  },
  {
   "cell_type": "code",
   "execution_count": null,
   "metadata": {},
   "outputs": [],
   "source": [
    "l = [1,(2,3),4]\n",
    "l[1]"
   ]
  },
  {
   "cell_type": "code",
   "execution_count": null,
   "metadata": {},
   "outputs": [],
   "source": [
    "l[1]=8\n",
    "l"
   ]
  },
  {
   "cell_type": "code",
   "execution_count": null,
   "metadata": {},
   "outputs": [],
   "source": [
    "l[1][0]= 2"
   ]
  },
  {
   "cell_type": "code",
   "execution_count": null,
   "metadata": {},
   "outputs": [],
   "source": []
  }
 ],
 "metadata": {
  "kernelspec": {
   "display_name": "Python 3",
   "language": "python",
   "name": "python3"
  },
  "language_info": {
   "codemirror_mode": {
    "name": "ipython",
    "version": 3
   },
   "file_extension": ".py",
   "mimetype": "text/x-python",
   "name": "python",
   "nbconvert_exporter": "python",
   "pygments_lexer": "ipython3",
   "version": "3.7.4"
  }
 },
 "nbformat": 4,
 "nbformat_minor": 2
}

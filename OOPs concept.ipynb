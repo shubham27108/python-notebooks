{
 "cells": [
  {
   "cell_type": "markdown",
   "metadata": {},
   "source": [
    "# OOPs concept : Object Oriented Programming\n",
    "### Object is the instance \n",
    "#### An object has \n",
    "     a. attributes: Data describing the object\n",
    "     b. Behaviour: Methods on the attributes \n",
    "     \n",
    "#### Class : Similar group of objects:\n",
    "    \n",
    "    "
   ]
  },
  {
   "cell_type": "code",
   "execution_count": 6,
   "metadata": {},
   "outputs": [],
   "source": [
    "## self refefres to the object\n",
    "class car():\n",
    "    speed = 100\n",
    "    def getSpeed(self):\n",
    "        print(\"average speed calculation\")"
   ]
  },
  {
   "cell_type": "code",
   "execution_count": 7,
   "metadata": {},
   "outputs": [],
   "source": [
    "BMW = car()\n",
    "FORD = car()"
   ]
  },
  {
   "cell_type": "code",
   "execution_count": 8,
   "metadata": {},
   "outputs": [
    {
     "name": "stdout",
     "output_type": "stream",
     "text": [
      "average speed calculation\n"
     ]
    }
   ],
   "source": [
    "car.getSpeed(BMW)"
   ]
  },
  {
   "cell_type": "code",
   "execution_count": 4,
   "metadata": {},
   "outputs": [
    {
     "name": "stdout",
     "output_type": "stream",
     "text": [
      "avarage speed calculation\n"
     ]
    }
   ],
   "source": [
    "BMW.getSpeed()"
   ]
  },
  {
   "cell_type": "code",
   "execution_count": 3,
   "metadata": {},
   "outputs": [
    {
     "data": {
      "text/plain": [
       "100"
      ]
     },
     "execution_count": 3,
     "metadata": {},
     "output_type": "execute_result"
    }
   ],
   "source": [
    "BMW.speed"
   ]
  },
  {
   "cell_type": "code",
   "execution_count": 9,
   "metadata": {},
   "outputs": [
    {
     "name": "stdout",
     "output_type": "stream",
     "text": [
      "average speed calculation\n"
     ]
    }
   ],
   "source": [
    "car.getSpeed(FORD)"
   ]
  },
  {
   "cell_type": "code",
   "execution_count": 10,
   "metadata": {},
   "outputs": [
    {
     "name": "stdout",
     "output_type": "stream",
     "text": [
      "average speed calculation\n"
     ]
    }
   ],
   "source": [
    "BMW.getSpeed()"
   ]
  },
  {
   "cell_type": "code",
   "execution_count": 11,
   "metadata": {},
   "outputs": [
    {
     "name": "stdout",
     "output_type": "stream",
     "text": [
      "average speed calculation\n"
     ]
    }
   ],
   "source": [
    "FORD.getSpeed()"
   ]
  },
  {
   "cell_type": "markdown",
   "metadata": {},
   "source": [
    "All classes create objects, and all objects contain characteristics called attributes (referred to as properties in the opening paragraph). Use the __init__() method to initialize (e.g., specify) an object’s initial attributes by giving them their\n",
    "default value (or state). This method must have at least one argument as well as the self variable, which refers to the object itself "
   ]
  },
  {
   "cell_type": "code",
   "execution_count": 22,
   "metadata": {},
   "outputs": [],
   "source": [
    "class car():\n",
    "\n",
    "    def __init__ (self, year, speed): \n",
    "        self.y1 = year\n",
    "        self.sp1 = speed\n",
    "        print(self.y1,self.sp1)\n",
    "    def getSpeed(s):\n",
    "        print(\"MAX SPEED\", s.sp1)"
   ]
  },
  {
   "cell_type": "code",
   "execution_count": 23,
   "metadata": {},
   "outputs": [
    {
     "name": "stdout",
     "output_type": "stream",
     "text": [
      "2018 1200\n"
     ]
    }
   ],
   "source": [
    "BMW = car(2018,1200)"
   ]
  },
  {
   "cell_type": "code",
   "execution_count": 14,
   "metadata": {},
   "outputs": [
    {
     "name": "stdout",
     "output_type": "stream",
     "text": [
      "MAX SPEED 1200\n"
     ]
    }
   ],
   "source": [
    "BMW.getSpeed()"
   ]
  },
  {
   "cell_type": "code",
   "execution_count": 15,
   "metadata": {},
   "outputs": [
    {
     "name": "stdout",
     "output_type": "stream",
     "text": [
      "2020 1500\n"
     ]
    }
   ],
   "source": [
    "FORD = car(2020, 1500)"
   ]
  },
  {
   "cell_type": "code",
   "execution_count": 12,
   "metadata": {},
   "outputs": [
    {
     "name": "stdout",
     "output_type": "stream",
     "text": [
      "MAX SPEED 1500\n"
     ]
    }
   ],
   "source": [
    "FORD.getSpeed()"
   ]
  },
  {
   "cell_type": "code",
   "execution_count": 25,
   "metadata": {},
   "outputs": [],
   "source": [
    "class person:\n",
    "    def __init__(self):\n",
    "        self.__name = ''\n",
    "    \n",
    "    def setname(self, name):\n",
    "        print('inside set')\n",
    "        self.__name = name\n",
    "        \n",
    "    def getname(self):\n",
    "        print(\"Inside get\")\n",
    "        return self.__name\n",
    "    \n",
    "    #name = property(getname, setname)\n",
    "    "
   ]
  },
  {
   "cell_type": "code",
   "execution_count": 26,
   "metadata": {},
   "outputs": [],
   "source": [
    "p1 = person()"
   ]
  },
  {
   "cell_type": "code",
   "execution_count": 27,
   "metadata": {},
   "outputs": [],
   "source": [
    "p2=person()"
   ]
  },
  {
   "cell_type": "code",
   "execution_count": 28,
   "metadata": {},
   "outputs": [
    {
     "name": "stdout",
     "output_type": "stream",
     "text": [
      "inside set\n"
     ]
    }
   ],
   "source": [
    "p2.setname('Python')"
   ]
  },
  {
   "cell_type": "code",
   "execution_count": 29,
   "metadata": {},
   "outputs": [
    {
     "name": "stdout",
     "output_type": "stream",
     "text": [
      "Inside get\n"
     ]
    },
    {
     "data": {
      "text/plain": [
       "'Python'"
      ]
     },
     "execution_count": 29,
     "metadata": {},
     "output_type": "execute_result"
    }
   ],
   "source": [
    "p2.getname()"
   ]
  },
  {
   "cell_type": "code",
   "execution_count": 30,
   "metadata": {},
   "outputs": [
    {
     "ename": "AttributeError",
     "evalue": "'person' object has no attribute '__name'",
     "output_type": "error",
     "traceback": [
      "\u001b[1;31m---------------------------------------------------------------------------\u001b[0m",
      "\u001b[1;31mAttributeError\u001b[0m                            Traceback (most recent call last)",
      "\u001b[1;32m<ipython-input-30-f19a3faf6096>\u001b[0m in \u001b[0;36m<module>\u001b[1;34m\u001b[0m\n\u001b[1;32m----> 1\u001b[1;33m \u001b[0mp2\u001b[0m\u001b[1;33m.\u001b[0m\u001b[0m__name\u001b[0m\u001b[1;33m\u001b[0m\u001b[1;33m\u001b[0m\u001b[0m\n\u001b[0m",
      "\u001b[1;31mAttributeError\u001b[0m: 'person' object has no attribute '__name'"
     ]
    }
   ],
   "source": [
    "p2.__name"
   ]
  },
  {
   "cell_type": "code",
   "execution_count": 31,
   "metadata": {},
   "outputs": [],
   "source": [
    "p1.name = \"Ruby\""
   ]
  },
  {
   "cell_type": "code",
   "execution_count": 32,
   "metadata": {},
   "outputs": [
    {
     "data": {
      "text/plain": [
       "'Ruby'"
      ]
     },
     "execution_count": 32,
     "metadata": {},
     "output_type": "execute_result"
    }
   ],
   "source": [
    "p1.name"
   ]
  },
  {
   "cell_type": "code",
   "execution_count": 5,
   "metadata": {},
   "outputs": [
    {
     "name": "stdout",
     "output_type": "stream",
     "text": [
      "inside set\n"
     ]
    }
   ],
   "source": [
    "p1.setname('SSPU')"
   ]
  },
  {
   "cell_type": "code",
   "execution_count": 6,
   "metadata": {},
   "outputs": [
    {
     "name": "stdout",
     "output_type": "stream",
     "text": [
      "Inside get\n"
     ]
    },
    {
     "data": {
      "text/plain": [
       "'SSPU'"
      ]
     },
     "execution_count": 6,
     "metadata": {},
     "output_type": "execute_result"
    }
   ],
   "source": [
    "p1.getname()"
   ]
  },
  {
   "cell_type": "code",
   "execution_count": 33,
   "metadata": {},
   "outputs": [
    {
     "name": "stdout",
     "output_type": "stream",
     "text": [
      "6\n",
      "2\n"
     ]
    }
   ],
   "source": [
    "student = [{'id': 1, 'success': True, 'name': 'Lary'},\n",
    " {'id': 2, 'success': False, 'name': 'Rabi'},\n",
    " {'id': 3, 'success': True, 'name': 'Alex'}]\n",
    "print(sum(d['id'] for d in student))\n",
    "print(sum(d['success'] for d in student))"
   ]
  },
  {
   "cell_type": "markdown",
   "metadata": {},
   "source": [
    "# Inheritance\n",
    "### Inheritance is the mechanism for new class to use the features of another class"
   ]
  },
  {
   "cell_type": "code",
   "execution_count": null,
   "metadata": {},
   "outputs": [],
   "source": [
    "## Single Inheritanc\n",
    "#Child class for car\n",
    "class Sedan(car):\n",
    "    def acceleration(self):\n",
    "        print(\"SUDAN 137\")\n",
    "    def openTrunk(self):\n",
    "        print(\"Trunk open\")"
   ]
  },
  {
   "cell_type": "code",
   "execution_count": 25,
   "metadata": {},
   "outputs": [],
   "source": [
    "## Child class for car\n",
    "class Sedan(car):\n",
    "    def acceleration(self):\n",
    "        print(\"SUDAN 137\")\n",
    "    def openTrunk(self):\n",
    "        print(\"Trunk open\")\n",
    "        \n",
    "class SUV(car):\n",
    "    def acceleration(self):\n",
    "        print(\"SUV 127\")"
   ]
  },
  {
   "cell_type": "code",
   "execution_count": 26,
   "metadata": {},
   "outputs": [
    {
     "name": "stdout",
     "output_type": "stream",
     "text": [
      "2020 200\n"
     ]
    }
   ],
   "source": [
    "S200 = SUV(2020,200)"
   ]
  },
  {
   "cell_type": "code",
   "execution_count": 27,
   "metadata": {},
   "outputs": [
    {
     "name": "stdout",
     "output_type": "stream",
     "text": [
      "SUV 127\n"
     ]
    }
   ],
   "source": [
    "S200.acceleration()"
   ]
  },
  {
   "cell_type": "code",
   "execution_count": 28,
   "metadata": {},
   "outputs": [
    {
     "name": "stdout",
     "output_type": "stream",
     "text": [
      "SUV 127\n"
     ]
    }
   ],
   "source": [
    "SUV.acceleration(S200)"
   ]
  },
  {
   "cell_type": "code",
   "execution_count": 21,
   "metadata": {},
   "outputs": [
    {
     "name": "stdout",
     "output_type": "stream",
     "text": [
      "1998 123\n"
     ]
    }
   ],
   "source": [
    "Honda = Sedan(1998,123)"
   ]
  },
  {
   "cell_type": "code",
   "execution_count": 22,
   "metadata": {},
   "outputs": [
    {
     "name": "stdout",
     "output_type": "stream",
     "text": [
      "SUDAN 137\n"
     ]
    }
   ],
   "source": [
    "Honda.acceleration()"
   ]
  },
  {
   "cell_type": "code",
   "execution_count": 23,
   "metadata": {},
   "outputs": [
    {
     "name": "stdout",
     "output_type": "stream",
     "text": [
      "MAX SPEED 200\n"
     ]
    }
   ],
   "source": [
    "S200.getSpeed()"
   ]
  },
  {
   "cell_type": "code",
   "execution_count": 22,
   "metadata": {},
   "outputs": [
    {
     "name": "stdout",
     "output_type": "stream",
     "text": [
      "MAX SPEED 123\n"
     ]
    }
   ],
   "source": [
    "Honda.getSpeed()"
   ]
  },
  {
   "cell_type": "code",
   "execution_count": 26,
   "metadata": {},
   "outputs": [
    {
     "name": "stdout",
     "output_type": "stream",
     "text": [
      "Trunk open\n"
     ]
    }
   ],
   "source": [
    "Honda.openTrunk()"
   ]
  },
  {
   "cell_type": "code",
   "execution_count": 16,
   "metadata": {},
   "outputs": [
    {
     "ename": "AttributeError",
     "evalue": "'car' object has no attribute 'openTrunk'",
     "output_type": "error",
     "traceback": [
      "\u001b[1;31m---------------------------------------------------------------------------\u001b[0m",
      "\u001b[1;31mAttributeError\u001b[0m                            Traceback (most recent call last)",
      "\u001b[1;32m<ipython-input-16-8e56c15a813b>\u001b[0m in \u001b[0;36m<module>\u001b[1;34m\u001b[0m\n\u001b[1;32m----> 1\u001b[1;33m \u001b[0mBMW\u001b[0m\u001b[1;33m.\u001b[0m\u001b[0mopenTrunk\u001b[0m\u001b[1;33m(\u001b[0m\u001b[1;33m)\u001b[0m\u001b[1;33m\u001b[0m\u001b[1;33m\u001b[0m\u001b[0m\n\u001b[0m",
      "\u001b[1;31mAttributeError\u001b[0m: 'car' object has no attribute 'openTrunk'"
     ]
    }
   ],
   "source": [
    "BMW.openTrunk()"
   ]
  },
  {
   "cell_type": "code",
   "execution_count": 17,
   "metadata": {},
   "outputs": [
    {
     "name": "stdout",
     "output_type": "stream",
     "text": [
      "SUDAN 137\n"
     ]
    }
   ],
   "source": [
    "Honda.acceleration()"
   ]
  },
  {
   "cell_type": "code",
   "execution_count": 29,
   "metadata": {},
   "outputs": [
    {
     "name": "stdout",
     "output_type": "stream",
     "text": [
      "First number = 1000\n",
      "Second number = 2000\n",
      "Addition of two numbers = 3000\n"
     ]
    }
   ],
   "source": [
    "class Addition: \n",
    "\tfirst = 0\n",
    "\tsecond = 0\n",
    "\tanswer = 0\n",
    "\t\n",
    "\t# parameterized constructor \n",
    "\tdef __init__(self, f, s): \n",
    "\t\tself.first = f \n",
    "\t\tself.second = s \n",
    "        \n",
    "\tdef calculate(self): \n",
    "\t\tself.answer = self.first + self.second \n",
    "        \n",
    "\tdef display(self): \n",
    "\t\tprint(\"First number = \" + str(self.first)) \n",
    "\t\tprint(\"Second number = \" + str(self.second)) \n",
    "\t\tprint(\"Addition of two numbers = \" + str(self.answer)) \n",
    "\n",
    "\n",
    "# creating object of the class \n",
    "# this will invoke parameterized constructor \n",
    "obj = Addition(1000, 2000) \n",
    "\n",
    "# perform Addition \n",
    "obj.calculate() \n",
    "\n",
    "# display result \n",
    "obj.display() \n"
   ]
  },
  {
   "cell_type": "code",
   "execution_count": 31,
   "metadata": {},
   "outputs": [
    {
     "ename": "TypeError",
     "evalue": "__init__() missing 2 required positional arguments: 'f' and 's'",
     "output_type": "error",
     "traceback": [
      "\u001b[1;31m---------------------------------------------------------------------------\u001b[0m",
      "\u001b[1;31mTypeError\u001b[0m                                 Traceback (most recent call last)",
      "\u001b[1;32m<ipython-input-31-938bb5192f3c>\u001b[0m in \u001b[0;36m<module>\u001b[1;34m\u001b[0m\n\u001b[1;32m----> 1\u001b[1;33m \u001b[0mo\u001b[0m \u001b[1;33m=\u001b[0m \u001b[0mAddition\u001b[0m\u001b[1;33m(\u001b[0m\u001b[1;33m)\u001b[0m \u001b[1;31m# error due to no parameters passed\u001b[0m\u001b[1;33m\u001b[0m\u001b[1;33m\u001b[0m\u001b[0m\n\u001b[0m\u001b[0;32m      2\u001b[0m \u001b[1;31m#ob = Addition(7)\u001b[0m\u001b[1;33m\u001b[0m\u001b[1;33m\u001b[0m\u001b[1;33m\u001b[0m\u001b[0m\n",
      "\u001b[1;31mTypeError\u001b[0m: __init__() missing 2 required positional arguments: 'f' and 's'"
     ]
    }
   ],
   "source": [
    "#o = Addition() # error due to no parameters passed\n",
    "#ob = Addition(7)"
   ]
  },
  {
   "cell_type": "code",
   "execution_count": 14,
   "metadata": {},
   "outputs": [
    {
     "name": "stdout",
     "output_type": "stream",
     "text": [
      "First number = 7\n",
      "Second number = 9\n",
      "Addition of two numbers = 16\n"
     ]
    }
   ],
   "source": [
    "ob.calculate()\n",
    "ob.display()"
   ]
  },
  {
   "cell_type": "code",
   "execution_count": 32,
   "metadata": {},
   "outputs": [],
   "source": [
    "class Person():     \n",
    "  \n",
    "        # __init__ is known as the constructor          \n",
    "        def __init__(self, name, idnumber):    \n",
    "                self.name = name \n",
    "                self.idnumber = idnumber \n",
    "        def display(self): \n",
    "                print(self.name) \n",
    "                print(self.idnumber) \n",
    "  \n",
    "# child class \n",
    "class Employee( Person ):            \n",
    "        def __init__(self, name, idnumber, salary, post): \n",
    "                self.salary = salary \n",
    "                self.post = post \n",
    "                # invoking the __init__ of the parent class  \n",
    "                Person.__init__(self, name, idnumber)  \n",
    "                \n",
    " "
   ]
  },
  {
   "cell_type": "code",
   "execution_count": 33,
   "metadata": {},
   "outputs": [],
   "source": [
    "a = Person('Ruby', 7188)"
   ]
  },
  {
   "cell_type": "code",
   "execution_count": 34,
   "metadata": {},
   "outputs": [
    {
     "name": "stdout",
     "output_type": "stream",
     "text": [
      "Ruby\n",
      "7188\n"
     ]
    }
   ],
   "source": [
    "a.display()"
   ]
  },
  {
   "cell_type": "code",
   "execution_count": 35,
   "metadata": {},
   "outputs": [
    {
     "name": "stdout",
     "output_type": "stream",
     "text": [
      "Rahul\n",
      "886012\n"
     ]
    }
   ],
   "source": [
    "# creation of an object variable or an instance \n",
    "a = Employee('Rahul', 886012, 6462924, 'Manager')     \n",
    "  \n",
    "# calling a function of the class Person using its instance \n",
    "a.display() "
   ]
  },
  {
   "cell_type": "code",
   "execution_count": 37,
   "metadata": {},
   "outputs": [
    {
     "name": "stdout",
     "output_type": "stream",
     "text": [
      "Derived\n",
      "Base1\n",
      "Base2\n",
      "SSPU SSOU\n"
     ]
    }
   ],
   "source": [
    "# Python example to show the working of multiple \n",
    "# inheritance \n",
    "class Base1(): \n",
    "\tdef __init__(self): \n",
    "\t\tself.str1 = \"SSPU\"\n",
    "\t\tprint(\"Base1\") \n",
    "\n",
    "class Base2(): \n",
    "\tdef __init__(self): \n",
    "\t\tself.str2 = \"SSOU\"\t\t\n",
    "\t\tprint(\"Base2\") \n",
    "\n",
    "class Derived(Base1, Base2):\n",
    "    def __init__(self):\n",
    "        print(\"Derived\")\n",
    "        Base1.__init__(self)\n",
    "        Base2.__init__(self) \n",
    "        #print(\"Derived\") \n",
    "\n",
    "    def printStrs(self):\n",
    "        print(self.str1, self.str2)  \n",
    "\n",
    "ob = Derived() \n",
    "ob.printStrs() \n"
   ]
  },
  {
   "cell_type": "code",
   "execution_count": 1,
   "metadata": {},
   "outputs": [
    {
     "name": "stdout",
     "output_type": "stream",
     "text": [
      "Ruby 23 Noida\n"
     ]
    }
   ],
   "source": [
    "# A Python program to demonstrate inheritance \n",
    "\n",
    "# Base or Super class. Note object in bracket. \n",
    "# (Generally, object is made ancestor of all classes) \n",
    "# In Python 3.x \"class Person\" is \n",
    "# equivalent to \"class Person(object)\" \n",
    "class Base(): \n",
    "\t\n",
    "\t# Constructor \n",
    "\tdef __init__(self, name): \n",
    "\t\tself.name = name \n",
    "\n",
    "\t# To get name \n",
    "\tdef getName(self): \n",
    "\t\treturn self.name \n",
    "\n",
    "# Inherited or Sub class (Note Person in bracket) \n",
    "class Child(Base): \n",
    "\t\n",
    "\t# Constructor \n",
    "\tdef __init__(self, name, age): \n",
    "\t\tBase.__init__(self, name) \n",
    "\t\tself.age = age \n",
    "\n",
    "\t# To get name \n",
    "\tdef getAge(self): \n",
    "\t\treturn self.age \n",
    "    \n",
    "# Inherited or Sub class (Note Person in bracket) \n",
    "class GrandChild(Child): \n",
    "\t\n",
    "\t# Constructor \n",
    "\tdef __init__(self, name, age, address):\n",
    "\t\tChild.__init__(self, name, age) \n",
    "\t\tself.address = address \n",
    "\n",
    "\t# To get address \n",
    "\tdef getAddress(self): \n",
    "\t\treturn self.address\n",
    "\n",
    "# Driver code \n",
    "g = GrandChild(\"Ruby\", 23, \"Noida\") \n",
    "print(g.getName(), g.getAge(), g.getAddress()) \n"
   ]
  },
  {
   "cell_type": "code",
   "execution_count": 41,
   "metadata": {},
   "outputs": [
    {
     "name": "stdout",
     "output_type": "stream",
     "text": [
      "84\n"
     ]
    }
   ],
   "source": [
    "# Python program to demonstrate private members \n",
    "# of the parent class \n",
    "class C(): \n",
    "    def __init__(self): \n",
    "        self.c = 21\n",
    "        # d is private instance variable \n",
    "        self.__d = 42\n",
    "            \n",
    "    def getdata(self):\n",
    "        print(self.c)\n",
    "        print(self.__d)\n",
    "        \n",
    "        \n",
    "class D(C): \n",
    "\tdef __init__(self): \n",
    "\t\t\tself.e = 84\n",
    "\t\t\tC.__init__(self) \n",
    "object1 = D() \n",
    "\n",
    "# produces an error as d is private instance variable \n",
    "print(object1.e)\n"
   ]
  },
  {
   "cell_type": "code",
   "execution_count": 43,
   "metadata": {},
   "outputs": [
    {
     "ename": "AttributeError",
     "evalue": "'D' object has no attribute '__d'",
     "output_type": "error",
     "traceback": [
      "\u001b[1;31m---------------------------------------------------------------------------\u001b[0m",
      "\u001b[1;31mAttributeError\u001b[0m                            Traceback (most recent call last)",
      "\u001b[1;32m<ipython-input-43-936941226851>\u001b[0m in \u001b[0;36m<module>\u001b[1;34m\u001b[0m\n\u001b[1;32m----> 1\u001b[1;33m \u001b[0mprint\u001b[0m\u001b[1;33m(\u001b[0m\u001b[0mobject1\u001b[0m\u001b[1;33m.\u001b[0m\u001b[0m__d\u001b[0m\u001b[1;33m)\u001b[0m\u001b[1;33m\u001b[0m\u001b[1;33m\u001b[0m\u001b[0m\n\u001b[0m",
      "\u001b[1;31mAttributeError\u001b[0m: 'D' object has no attribute '__d'"
     ]
    }
   ],
   "source": [
    "print(object1.__d)"
   ]
  },
  {
   "cell_type": "code",
   "execution_count": 44,
   "metadata": {},
   "outputs": [],
   "source": [
    "obj2 = C()"
   ]
  },
  {
   "cell_type": "code",
   "execution_count": 45,
   "metadata": {},
   "outputs": [
    {
     "ename": "AttributeError",
     "evalue": "'C' object has no attribute '__d'",
     "output_type": "error",
     "traceback": [
      "\u001b[1;31m---------------------------------------------------------------------------\u001b[0m",
      "\u001b[1;31mAttributeError\u001b[0m                            Traceback (most recent call last)",
      "\u001b[1;32m<ipython-input-45-626d117b48ab>\u001b[0m in \u001b[0;36m<module>\u001b[1;34m\u001b[0m\n\u001b[1;32m----> 1\u001b[1;33m \u001b[0mobj2\u001b[0m\u001b[1;33m.\u001b[0m\u001b[0m__d\u001b[0m\u001b[1;33m\u001b[0m\u001b[1;33m\u001b[0m\u001b[0m\n\u001b[0m",
      "\u001b[1;31mAttributeError\u001b[0m: 'C' object has no attribute '__d'"
     ]
    }
   ],
   "source": [
    "obj2.__d"
   ]
  },
  {
   "cell_type": "markdown",
   "metadata": {},
   "source": [
    "Since ‘d’ is made private by two underscores, it is not available to the child class ‘D’ and hence the error."
   ]
  },
  {
   "cell_type": "code",
   "execution_count": 46,
   "metadata": {},
   "outputs": [
    {
     "name": "stdout",
     "output_type": "stream",
     "text": [
      "21\n",
      "42\n"
     ]
    }
   ],
   "source": [
    "obj2.getdata()"
   ]
  },
  {
   "cell_type": "markdown",
   "metadata": {},
   "source": [
    "# Encapsulation \n",
    "### The feature of preventing the data from direct access is called encapsulation"
   ]
  },
  {
   "cell_type": "markdown",
   "metadata": {},
   "source": [
    "class is the example of encapsulation. variable and methods are called members of the class."
   ]
  },
  {
   "cell_type": "code",
   "execution_count": 47,
   "metadata": {},
   "outputs": [],
   "source": [
    "class car():\n",
    "    def __init__ (self, year, speed): \n",
    "        self.__year = year\n",
    "        self.__speed = speed\n",
    "    def getSpeed(self):\n",
    "        print(\"MAX SPEED\", self.__speed)\n",
    "        \n",
    "    def setSpeed(self,speed):\n",
    "            self.__speed = speed\n",
    "            print(\"MAX SPEED\", self.__speed)"
   ]
  },
  {
   "cell_type": "code",
   "execution_count": 48,
   "metadata": {},
   "outputs": [
    {
     "name": "stdout",
     "output_type": "stream",
     "text": [
      "MAX SPEED 153\n",
      "MAX SPEED 100\n"
     ]
    }
   ],
   "source": [
    "## Whatever objects created will not make any changes in class \n",
    "#which is declared.\n",
    "\n",
    "BMW= car(2018, 153) \n",
    "BMW.getSpeed()\n",
    "BMW.setSpeed(100)"
   ]
  },
  {
   "cell_type": "code",
   "execution_count": 49,
   "metadata": {},
   "outputs": [
    {
     "ename": "AttributeError",
     "evalue": "'car' object has no attribute '__year'",
     "output_type": "error",
     "traceback": [
      "\u001b[1;31m---------------------------------------------------------------------------\u001b[0m",
      "\u001b[1;31mAttributeError\u001b[0m                            Traceback (most recent call last)",
      "\u001b[1;32m<ipython-input-49-aac48517399c>\u001b[0m in \u001b[0;36m<module>\u001b[1;34m\u001b[0m\n\u001b[1;32m----> 1\u001b[1;33m \u001b[0mBMW\u001b[0m\u001b[1;33m.\u001b[0m\u001b[0m__year\u001b[0m\u001b[1;33m\u001b[0m\u001b[1;33m\u001b[0m\u001b[0m\n\u001b[0m",
      "\u001b[1;31mAttributeError\u001b[0m: 'car' object has no attribute '__year'"
     ]
    }
   ],
   "source": [
    "BMW.__year"
   ]
  },
  {
   "cell_type": "markdown",
   "metadata": {},
   "source": [
    "# Polymorphism\n",
    "### Using the same function in multiple ways"
   ]
  },
  {
   "cell_type": "code",
   "execution_count": 53,
   "metadata": {},
   "outputs": [],
   "source": [
    "class car():\n",
    "    def __init__ (self, name): \n",
    "        self.name = name\n",
    "\n",
    "class Sedan(car):\n",
    "    def acceleration(self):\n",
    "        print(\"SUDAN 137\")\n",
    "    def openTrunk(self):\n",
    "        print(\"Trunk open\")\n",
    "        \n",
    "class SUV(car):\n",
    "    def acceleration(self):\n",
    "        print(\"SUV 127\")"
   ]
  },
  {
   "cell_type": "code",
   "execution_count": 54,
   "metadata": {},
   "outputs": [],
   "source": [
    "obj = [Sedan(\"Camry\"),SUV(\"Scorpio\"),Sedan(\"BLUE\")]"
   ]
  },
  {
   "cell_type": "code",
   "execution_count": 55,
   "metadata": {},
   "outputs": [
    {
     "name": "stdout",
     "output_type": "stream",
     "text": [
      "Car name Camry\n",
      "SUDAN 137\n",
      "Car name Scorpio\n",
      "SUV 127\n",
      "Car name BLUE\n",
      "SUDAN 137\n"
     ]
    }
   ],
   "source": [
    "for o in obj:\n",
    "    print (\"Car name\", o.name )\n",
    "    o.acceleration()"
   ]
  },
  {
   "cell_type": "code",
   "execution_count": 56,
   "metadata": {},
   "outputs": [
    {
     "name": "stdout",
     "output_type": "stream",
     "text": [
      "1) way Blu is a bird\n",
      "2)Blu is a bird\n",
      "Woo is also a bird\n",
      "Blu is 10 years old\n",
      "Woo is 15 years old\n"
     ]
    }
   ],
   "source": [
    "class Parrot:\n",
    "    # class attribute\n",
    "    species = \"bird\"\n",
    "\n",
    "    # instance attribute\n",
    "    def __init__(self, name, age):\n",
    "        self.name = name\n",
    "        self.age = age\n",
    "\n",
    "# instantiate the Parrot class\n",
    "blu = Parrot(\"Blu\", 10)\n",
    "woo = Parrot(\"Woo\", 15)\n",
    "\n",
    "# access the class attributes\n",
    "print(\"1) way Blu is a {}\".format(blu.species))\n",
    "print(\"2)Blu is a {}\".format(blu.__class__.species))\n",
    "print(\"Woo is also a {}\".format(woo.__class__.species))\n",
    "\n",
    "# access the instance attributes\n",
    "print(\"{} is {} years old\".format( blu.name, blu.age))\n",
    "print(\"{} is {} years old\".format( woo.name, woo.age))"
   ]
  },
  {
   "cell_type": "markdown",
   "metadata": {},
   "source": [
    "## Inheritance"
   ]
  },
  {
   "cell_type": "code",
   "execution_count": 6,
   "metadata": {},
   "outputs": [
    {
     "name": "stdout",
     "output_type": "stream",
     "text": [
      "Bird is ready\n",
      "Penguin is ready\n",
      "Bird\n",
      "Penguin\n",
      "Swim faster\n",
      "Run faster\n",
      "Object distroyed\n"
     ]
    }
   ],
   "source": [
    "# parent class\n",
    "class Bird:\n",
    "    \n",
    "    def __init__(self):\n",
    "        #self.n1 = name\n",
    "        print(\"Bird is ready\")\n",
    "\n",
    "    def whoisThis(self):\n",
    "        print(\"Bird\")\n",
    "\n",
    "    def swim(self):\n",
    "        print(\"Swim faster\")\n",
    "        \n",
    "    def __del__(self):\n",
    "        print('Object distroyed')\n",
    "\n",
    "# child class\n",
    "class Penguin(Bird):\n",
    "\n",
    "    def __init__(self):\n",
    "        # call super() function\n",
    "        super().__init__()\n",
    "        print(\"Penguin is ready\")\n",
    "\n",
    "    def whoisThis(self):\n",
    "        super().whoisThis()\n",
    "        print(\"Penguin\")\n",
    "\n",
    "    def run(self):\n",
    "        print(\"Run faster\")\n",
    "        \n",
    "    def __del__(self):\n",
    "        #self.name=''\n",
    "        print('Object distroyed')\n",
    "\n",
    "peggy = Penguin()\n",
    "peggy.whoisThis()\n",
    "peggy.swim()\n",
    "peggy.run()\n",
    "\n",
    "del peggy"
   ]
  },
  {
   "cell_type": "markdown",
   "metadata": {},
   "source": [
    "## Polymorphism"
   ]
  },
  {
   "cell_type": "code",
   "execution_count": 26,
   "metadata": {},
   "outputs": [
    {
     "name": "stdout",
     "output_type": "stream",
     "text": [
      "Parrot can fly\n",
      "Penguin can't fly\n"
     ]
    }
   ],
   "source": [
    "class Parrot:\n",
    "\n",
    "    def fly(self):\n",
    "        print(\"Parrot can fly\")\n",
    "    \n",
    "    def swim(self):\n",
    "        print(\"Parrot can't swim\")\n",
    "\n",
    "class Penguin:\n",
    "\n",
    "    def fly(self):\n",
    "        print(\"Penguin can't fly\")\n",
    "    \n",
    "    def swim(self):\n",
    "        print(\"Penguin can swim\")\n",
    "\n",
    "# common interface\n",
    "def flying_test(bird):\n",
    "    bird.fly()\n",
    "\n",
    "#instantiate objects\n",
    "blu = Parrot()\n",
    "peggy = Penguin()\n",
    "\n",
    "# passing the object\n",
    "flying_test(blu)\n",
    "flying_test(peggy)"
   ]
  },
  {
   "cell_type": "code",
   "execution_count": 8,
   "metadata": {},
   "outputs": [],
   "source": [
    "_=10"
   ]
  },
  {
   "cell_type": "code",
   "execution_count": 9,
   "metadata": {},
   "outputs": [
    {
     "data": {
      "text/plain": [
       "10"
      ]
     },
     "execution_count": 9,
     "metadata": {},
     "output_type": "execute_result"
    }
   ],
   "source": [
    "_"
   ]
  },
  {
   "cell_type": "code",
   "execution_count": 10,
   "metadata": {},
   "outputs": [
    {
     "data": {
      "text/plain": [
       "200"
      ]
     },
     "execution_count": 10,
     "metadata": {},
     "output_type": "execute_result"
    }
   ],
   "source": [
    "_*20"
   ]
  },
  {
   "cell_type": "markdown",
   "metadata": {},
   "source": [
    "Multiple time we do not want return values at that time assign those values to Underscore. It used as throwaway variable."
   ]
  },
  {
   "cell_type": "markdown",
   "metadata": {},
   "source": [
    "## After Name:\n",
    "Python has their by default keywords which we can not use as the variable name. To avoid such conflict between python keyword and variable we use underscore after name\n",
    "\n"
   ]
  },
  {
   "cell_type": "code",
   "execution_count": 11,
   "metadata": {},
   "outputs": [],
   "source": [
    "class MyClass():\n",
    "    def __int__(self):\n",
    "        print(\"OK\")\n",
    "        \n",
    "def my_definition(var1=1, class_ = MyClass):\n",
    "    print(var1)\n",
    "    print(class_)"
   ]
  },
  {
   "cell_type": "code",
   "execution_count": 12,
   "metadata": {},
   "outputs": [
    {
     "name": "stdout",
     "output_type": "stream",
     "text": [
      "1\n",
      "<class '__main__.MyClass'>\n"
     ]
    }
   ],
   "source": [
    "my_definition()"
   ]
  },
  {
   "cell_type": "markdown",
   "metadata": {},
   "source": [
    "## Before Name\n",
    "Leading Underscore before variable/function/method name indicates to programmer that It is for internal use only, that can be modified whenever class want.\n",
    "\n",
    "Here name prefix by underscore is treated as non-public. If specify from Import * all the name starts with _ will not import. Python does not specify truly private so this ones can be call directly from other modules if it is specified in __all__, We also call it weak Private"
   ]
  },
  {
   "cell_type": "code",
   "execution_count": 7,
   "metadata": {},
   "outputs": [],
   "source": [
    "class new_pre:\n",
    "    def __init__(self):\n",
    "        self.a=10\n",
    "        self._b=20"
   ]
  },
  {
   "cell_type": "code",
   "execution_count": 8,
   "metadata": {},
   "outputs": [],
   "source": [
    "n=new_pre()"
   ]
  },
  {
   "cell_type": "code",
   "execution_count": 9,
   "metadata": {},
   "outputs": [
    {
     "data": {
      "text/plain": [
       "__main__.new_pre"
      ]
     },
     "execution_count": 9,
     "metadata": {},
     "output_type": "execute_result"
    }
   ],
   "source": [
    "type(n)"
   ]
  },
  {
   "cell_type": "code",
   "execution_count": 33,
   "metadata": {},
   "outputs": [
    {
     "data": {
      "text/plain": [
       "10"
      ]
     },
     "execution_count": 33,
     "metadata": {},
     "output_type": "execute_result"
    }
   ],
   "source": [
    "## this one is called as public variable\n",
    "n.a"
   ]
  },
  {
   "cell_type": "code",
   "execution_count": 34,
   "metadata": {},
   "outputs": [
    {
     "data": {
      "text/plain": [
       "20"
      ]
     },
     "execution_count": 34,
     "metadata": {},
     "output_type": "execute_result"
    }
   ],
   "source": [
    "n._b"
   ]
  },
  {
   "cell_type": "markdown",
   "metadata": {},
   "source": [
    "## for more refere the module folder"
   ]
  },
  {
   "cell_type": "markdown",
   "metadata": {},
   "source": [
    "# Double Underscore(__)"
   ]
  },
  {
   "cell_type": "markdown",
   "metadata": {},
   "source": [
    "Leading double underscore tell python interpreter to rewrite name in order to avoid conflict in subclass.Interpreter changes variable name with class extension and that feature known as the Mangling. Refer the module folder __DBSunder__ file\n"
   ]
  },
  {
   "cell_type": "markdown",
   "metadata": {},
   "source": [
    "# __BEFORE_AFTER__ \n",
    "Name with start with __ and ends with same considers special methods in Python. Python provide this methods to use it as the operator overloading depending on the user.\n",
    "\n",
    "Python provides this convention to differentiate between the user defined function with the module’s function"
   ]
  },
  {
   "cell_type": "markdown",
   "metadata": {},
   "source": [
    "Types of Methods\\\n",
    "Instance Methods\n"
   ]
  },
  {
   "cell_type": "markdown",
   "metadata": {},
   "source": [
    "Static Methods \\\n",
    "Class Methods "
   ]
  },
  {
   "cell_type": "code",
   "execution_count": 10,
   "metadata": {},
   "outputs": [],
   "source": [
    "class MyClass:\n",
    "    def method(self):\n",
    "        return 'instance method called', self\n",
    "\n",
    "    @classmethod\n",
    "    def classmethod(cls):\n",
    "        return 'class method called', cls\n",
    "\n",
    "    @staticmethod\n",
    "    def staticmethod():\n",
    "        return 'static method called'"
   ]
  },
  {
   "cell_type": "code",
   "execution_count": 57,
   "metadata": {},
   "outputs": [],
   "source": [
    "class student:\n",
    "    ##Static/ class variable-- outside the constructor\n",
    "    college=\"ABC\"\n",
    "    def __init__(self,m1,m2,m3):\n",
    "        ## instance variable\n",
    "        self.n1=m1\n",
    "        self.n2=m2\n",
    "        self.n3=m3\n",
    "        ## avg is the instance method as we are passing variable i.e. self\n",
    "    def avg1(self):\n",
    "        avg1=(self.n1+self.n2+self.n3)/3\n",
    "        return avg1\n",
    "    \n",
    "    def getmarks(self):\n",
    "        return self.n1, self.n2, self.n3\n",
    "    def setmarks(self,new_val):\n",
    "        self.n1 = new_val\n",
    "    \n",
    "    ##decorator\n",
    "    @classmethod\n",
    "    def information(cls,a):\n",
    "        return cls.college+a"
   ]
  },
  {
   "cell_type": "code",
   "execution_count": 58,
   "metadata": {},
   "outputs": [],
   "source": [
    "s1=student(10,15,18)\n",
    "s2=student(15,13,12)"
   ]
  },
  {
   "cell_type": "code",
   "execution_count": 59,
   "metadata": {},
   "outputs": [
    {
     "data": {
      "text/plain": [
       "'ABC2'"
      ]
     },
     "execution_count": 59,
     "metadata": {},
     "output_type": "execute_result"
    }
   ],
   "source": [
    "student.information('2')"
   ]
  },
  {
   "cell_type": "code",
   "execution_count": 61,
   "metadata": {},
   "outputs": [
    {
     "data": {
      "text/plain": [
       "'ABC'"
      ]
     },
     "execution_count": 61,
     "metadata": {},
     "output_type": "execute_result"
    }
   ],
   "source": [
    "s1.college"
   ]
  },
  {
   "cell_type": "code",
   "execution_count": 62,
   "metadata": {},
   "outputs": [
    {
     "data": {
      "text/plain": [
       "14.333333333333334"
      ]
     },
     "execution_count": 62,
     "metadata": {},
     "output_type": "execute_result"
    }
   ],
   "source": [
    "s1.avg1()"
   ]
  },
  {
   "cell_type": "code",
   "execution_count": 63,
   "metadata": {},
   "outputs": [
    {
     "data": {
      "text/plain": [
       "13.333333333333334"
      ]
     },
     "execution_count": 63,
     "metadata": {},
     "output_type": "execute_result"
    }
   ],
   "source": [
    "s2.avg1()"
   ]
  },
  {
   "cell_type": "code",
   "execution_count": 49,
   "metadata": {},
   "outputs": [
    {
     "data": {
      "text/plain": [
       "'ABC'"
      ]
     },
     "execution_count": 49,
     "metadata": {},
     "output_type": "execute_result"
    }
   ],
   "source": [
    "s1.college"
   ]
  },
  {
   "cell_type": "code",
   "execution_count": 50,
   "metadata": {},
   "outputs": [
    {
     "data": {
      "text/plain": [
       "(10, 15, 18)"
      ]
     },
     "execution_count": 50,
     "metadata": {},
     "output_type": "execute_result"
    }
   ],
   "source": [
    "s1.getmarks()"
   ]
  },
  {
   "cell_type": "code",
   "execution_count": 26,
   "metadata": {},
   "outputs": [
    {
     "data": {
      "text/plain": [
       "'ABC'"
      ]
     },
     "execution_count": 26,
     "metadata": {},
     "output_type": "execute_result"
    }
   ],
   "source": [
    "student.information()"
   ]
  },
  {
   "cell_type": "markdown",
   "metadata": {},
   "source": [
    "Instance are having two types of methods\n",
    "Accessor methods: only fetch the values\n",
    "Mutetor methods: only mutate the values"
   ]
  },
  {
   "cell_type": "code",
   "execution_count": null,
   "metadata": {},
   "outputs": [],
   "source": []
  },
  {
   "cell_type": "markdown",
   "metadata": {},
   "source": [
    "Built-In Class Attributes  \n",
    "Destroying Objects  \n",
    "Abstract classes and Interfaces  \n",
    "Abstract Methods and Abstract class  \n",
    "Interface in Python  \n",
    "Abstract classes and Interfaces "
   ]
  },
  {
   "cell_type": "markdown",
   "metadata": {},
   "source": [
    "# Decorator Pattern\n",
    "We have the following requirements:\n",
    "• adding new ingredients like soy milk should be easy and work with all beverages,\n",
    "• anybody should be able to add new custom ingredients without touching the original code (open-closed principle),\n",
    "• there should be no limit to the number of ingredients.\n",
    "•Decorator Pattern\n"
   ]
  },
  {
   "cell_type": "code",
   "execution_count": 15,
   "metadata": {},
   "outputs": [],
   "source": [
    "class Beverage():\n",
    "    # imagine some attributes like temperature, amount left,...\n",
    "    def get_description(self):\n",
    "        return \"beverage\"\n",
    "    def get_cost(self):\n",
    "        return 0.00\n",
    "\n",
    "class Coffee(Beverage):\n",
    "    def get_description(self):\n",
    "        return \"normal coffee\"\n",
    "    def get_cost(self):\n",
    "        return 3.00\n",
    "\n",
    "class Tea(Beverage):\n",
    "    def get_description(self):\n",
    "        return \"tee\"\n",
    "    def get_cost(self):\n",
    "        return 2.50\n",
    "    \n",
    "class CoffeeWithMilk(Coffee):\n",
    "    def get_description(self):\n",
    "        #super().get_description()\n",
    "        return super().get_description() + \", with milk\"\n",
    "    def get_cost(self):\n",
    "        return super().get_cost() + 0.30\n",
    "#class CoffeeWithMilkAndSugar(CoffeeWithMilk):\n",
    "    # And so on, what a mess!"
   ]
  },
  {
   "cell_type": "code",
   "execution_count": 16,
   "metadata": {},
   "outputs": [
    {
     "name": "stdout",
     "output_type": "stream",
     "text": [
      "beverage\n",
      "0.0\n"
     ]
    }
   ],
   "source": [
    "b = Beverage()\n",
    "print(b.get_description())\n",
    "print(b.get_cost())"
   ]
  },
  {
   "cell_type": "code",
   "execution_count": 17,
   "metadata": {},
   "outputs": [
    {
     "data": {
      "text/plain": [
       "'normal coffee'"
      ]
     },
     "execution_count": 17,
     "metadata": {},
     "output_type": "execute_result"
    }
   ],
   "source": [
    "c1 = Coffee()\n",
    "c1.get_description()"
   ]
  },
  {
   "cell_type": "code",
   "execution_count": 19,
   "metadata": {},
   "outputs": [
    {
     "name": "stdout",
     "output_type": "stream",
     "text": [
      "3.3\n"
     ]
    },
    {
     "data": {
      "text/plain": [
       "'normal coffee, with milk'"
      ]
     },
     "execution_count": 19,
     "metadata": {},
     "output_type": "execute_result"
    }
   ],
   "source": [
    "c = CoffeeWithMilk()\n",
    "print(c.get_cost())\n",
    "c.get_description()\n"
   ]
  },
  {
   "cell_type": "markdown",
   "metadata": {},
   "source": [
    "# Strategy Pattern"
   ]
  },
  {
   "cell_type": "code",
   "execution_count": 16,
   "metadata": {},
   "outputs": [],
   "source": [
    "class Duck(object):\n",
    "    def __init__(self):\n",
    "        # for simplicity this example class is stateless\n",
    "        print(\"INTITIALIZE\")\n",
    "    def quack(self):\n",
    "        print (\"Quack!\")\n",
    "    def display(self):\n",
    "        print (\"Boring looking duck.\")\n",
    "    def take_off(self):\n",
    "        print (\"I'm running fast, flapping with my wings.\")\n",
    "    def fly_to(self, destination):\n",
    "        print (\"Now flying to %s.\" % destination)\n",
    "    def land(self):\n",
    "        print (\"Slowing down, extending legs, touch down.\")\n",
    "        \n",
    "        \n",
    "class RedheadDuck(Duck):\n",
    "    def display(self):\n",
    "        print (\"Duck with a read head.\")\n",
    "        \n",
    "class RubberDuck(Duck):\n",
    "    def quack(self):\n",
    "        print (\"Squeak!\")\n",
    "    def display(self):\n",
    "        print (\"Small yellow rubber duck.\")"
   ]
  },
  {
   "cell_type": "markdown",
   "metadata": {},
   "source": [
    "Oh man! The RubberDuck is able to fly!\n",
    "• Looks like we have to override all the flying related methods.\n",
    "• But if we want to introduce a DecoyDuck as well we will have to override all\n",
    "three methods again in the same way (DRY).\n",
    "• And what if a normal duck suffers a broken wing?\n",
    "• Idea: Create a FlyingBehavior class which can be plugged into theDuck\n",
    "class."
   ]
  },
  {
   "cell_type": "code",
   "execution_count": 17,
   "metadata": {},
   "outputs": [],
   "source": [
    "class FlyingBehavior(object):\n",
    "    \"\"\"Default flying behavior.\"\"\"\n",
    "    def take_off(self):\n",
    "        print (\"I'm running fast, flapping with my wings.\")\n",
    "    def fly_to(self, destination):\n",
    "        print (\"Now flying to %s.\" % destination)\n",
    "    def land(self):\n",
    "        print (\"Slowing down, extending legs, touch down.\")    \n",
    "\n",
    "class Duck(object):\n",
    "    def __init__(self):\n",
    "        self.flying_behavior = FlyingBehavior()\n",
    "    def quack(self):\n",
    "        print (\"Quack!\")\n",
    "    def display(self):\n",
    "        print (\"Boring looking duck.\")\n",
    "    def take_off(self):\n",
    "        self.flying_behavior.take_off()\n",
    "    def fly_to(self, destination):\n",
    "        self.flying_behavior.fly_to(destination)\n",
    "    def land(self):\n",
    "        self.flying_behavior.land()"
   ]
  },
  {
   "cell_type": "code",
   "execution_count": 56,
   "metadata": {},
   "outputs": [],
   "source": [
    "class NonFlyingBehavior(FlyingBehavior):\n",
    "    \"\"\"FlyingBehavior for ducks that are unable to fly.\"\"\"\n",
    "    def take_off(self):\n",
    "        print (\"It's not working :-(\")\n",
    "    def fly_to(self, destination):\n",
    "        raise Exception(\"I'm not flying anywhere.\")\n",
    "    def land(self):\n",
    "        print (\"That won't be necessary.\")\n",
    "    \n",
    "class RubberDuck(Duck):\n",
    "    def __init__(self):\n",
    "        self.flying_behavior = NonFlyingBehavior()\n",
    "    def quack(self):\n",
    "        print (\"Squeak!\")\n",
    "    def display(self):\n",
    "        print (\"Small yellow rubber duck.\")\n",
    "    \n",
    "class DecoyDuck(Duck):\n",
    "    def __init__(self):\n",
    "        self.flying_behavior = NonFlyingBehavior()\n",
    "    def quack(self):\n",
    "        print (\"   \")\n",
    "    def display(self):\n",
    "        print (\"Looks almost like a real duck.\")"
   ]
  },
  {
   "cell_type": "markdown",
   "metadata": {},
   "source": [
    "\n",
    "# Adapter Pattern\n",
    "Lets say we obtained the following class from our collaborator:\n",
    "    \n",
    "    \n",
    "    \n",
    "How to integrate it with our Duck Simulator: turkeys can fly and gobble\n",
    "but they can not quack!"
   ]
  },
  {
   "cell_type": "code",
   "execution_count": 13,
   "metadata": {},
   "outputs": [],
   "source": [
    "class Turkey(object):\n",
    "    def fly_to(self):\n",
    "        print (\"I believe I can fly...\")\n",
    "    def gobble(self, n):\n",
    "        print (\"gobble \" * n)\n",
    "\n",
    "\n",
    "class TurkeyAdapter(object):\n",
    "    def __init__(self, turkey):\n",
    "        self.turkey = turkey\n",
    "        self.fly_to = turkey.fly_to #delegate to native Turkey method\n",
    "        self.gobble_count = 3\n",
    "    def quack(self): #adapt gobble to quack\n",
    "        self.turkey.gobble(self.gobble_count)"
   ]
  },
  {
   "cell_type": "code",
   "execution_count": 14,
   "metadata": {},
   "outputs": [
    {
     "name": "stdout",
     "output_type": "stream",
     "text": [
      "I believe I can fly...\n"
     ]
    }
   ],
   "source": [
    "turkey = Turkey()\n",
    "turkeyduck = TurkeyAdapter(turkey)\n",
    "turkeyduck.fly_to()"
   ]
  },
  {
   "cell_type": "code",
   "execution_count": 15,
   "metadata": {},
   "outputs": [
    {
     "name": "stdout",
     "output_type": "stream",
     "text": [
      "gobble gobble gobble \n"
     ]
    }
   ],
   "source": [
    " turkeyduck.quack()"
   ]
  },
  {
   "cell_type": "code",
   "execution_count": 72,
   "metadata": {},
   "outputs": [
    {
     "name": "stdout",
     "output_type": "stream",
     "text": [
      "I have 3 sides\n",
      "I have 4 sides\n",
      "I have 5 sides\n",
      "I have 6 sides\n"
     ]
    }
   ],
   "source": [
    "# Python program showing \n",
    "# abstract base class work \n",
    "import abc \n",
    "from abc import ABC, abstractmethod \n",
    "  \n",
    "class Polygon(ABC):\n",
    "    # abstract method \n",
    "    @abc.abstractproperty \n",
    "    def noofsides(self): \n",
    "        pass\n",
    "  \n",
    "class Triangle(Polygon): \n",
    "  \n",
    "    # overriding abstract method \n",
    "    def noofsides(self): \n",
    "        print(\"I have 3 sides\") \n",
    "  \n",
    "class Pentagon(Polygon): \n",
    "  \n",
    "    # overriding abstract method \n",
    "    def noofsides(self): \n",
    "        print(\"I have 5 sides\") \n",
    "  \n",
    "class Hexagon(Polygon): \n",
    "  \n",
    "    # overriding abstract method \n",
    "    def noofsides(self): \n",
    "        print(\"I have 6 sides\") \n",
    "  \n",
    "class Quadrilateral(Polygon): \n",
    "  \n",
    "    # overriding abstract method \n",
    "    def noofsides(self): \n",
    "        print(\"I have 4 sides\") \n",
    "  \n",
    "# Driver code \n",
    "R = Triangle() \n",
    "R.noofsides() \n",
    "  \n",
    "K = Quadrilateral() \n",
    "K.noofsides() \n",
    "  \n",
    "R = Pentagon() \n",
    "R.noofsides() \n",
    "  \n",
    "K = Hexagon() \n",
    "K.noofsides()\n",
    "\n"
   ]
  },
  {
   "cell_type": "code",
   "execution_count": 71,
   "metadata": {},
   "outputs": [],
   "source": [
    "a = Polygon()"
   ]
  },
  {
   "cell_type": "code",
   "execution_count": 66,
   "metadata": {},
   "outputs": [],
   "source": [
    "a.noofsides()"
   ]
  },
  {
   "cell_type": "code",
   "execution_count": 10,
   "metadata": {},
   "outputs": [
    {
     "name": "stdout",
     "output_type": "stream",
     "text": [
      "I can walk and run\n",
      "I can crawl\n",
      "I can bark\n",
      "I can roar\n"
     ]
    }
   ],
   "source": [
    "# Python program showing \n",
    "# abstract base class work \n",
    "  \n",
    "from abc import ABC, abstractmethod \n",
    "class Animal(ABC): \n",
    "  \n",
    "    def move(self): \n",
    "        pass\n",
    "  \n",
    "class Human(Animal): \n",
    "  \n",
    "    def move(self): \n",
    "        print(\"I can walk and run\") \n",
    "  \n",
    "class Snake(Animal): \n",
    "  \n",
    "    def move(self): \n",
    "        print(\"I can crawl\") \n",
    "  \n",
    "class Dog(Animal): \n",
    "  \n",
    "    def move(self): \n",
    "        print(\"I can bark\") \n",
    "  \n",
    "class Lion(Animal): \n",
    "  \n",
    "    def move(self): \n",
    "        print(\"I can roar\") \n",
    "          \n",
    "# Driver code \n",
    "A = Animal()\n",
    "\n",
    "R = Human() \n",
    "R.move() \n",
    "  \n",
    "K = Snake() \n",
    "K.move() \n",
    "  \n",
    "R = Dog() \n",
    "R.move() \n",
    "  \n",
    "K = Lion() \n",
    "K.move() "
   ]
  },
  {
   "cell_type": "code",
   "execution_count": 43,
   "metadata": {},
   "outputs": [
    {
     "name": "stdout",
     "output_type": "stream",
     "text": [
      "True\n",
      "False\n",
      "True\n"
     ]
    }
   ],
   "source": [
    "# Python program showing \n",
    "# implementation of abstract \n",
    "# class through subclassing \n",
    "  \n",
    "import abc \n",
    "  \n",
    "class parent:        \n",
    "    def trial(self): \n",
    "        pass\n",
    "  \n",
    "class child(parent): \n",
    "    def trial(self): \n",
    "        print(\"child class\") \n",
    "  \n",
    "# Driver code \n",
    "print( issubclass(child, parent)) \n",
    "print( issubclass(parent, child))\n",
    "print( isinstance(child(), parent)) "
   ]
  },
  {
   "cell_type": "markdown",
   "metadata": {},
   "source": [
    "# Concrete Methods in Abstract Base Classes :\n",
    "Concrete classes contain only concrete (normal)methods whereas abstract class contains both concrete methods as well as abstract methods. Concrete class provide an implementation of abstract methods, the abstract base class can also provide an implementation by invoking the methods via super().\n",
    "Let look over the example to invoke the method using super():"
   ]
  },
  {
   "cell_type": "code",
   "execution_count": 7,
   "metadata": {},
   "outputs": [
    {
     "name": "stdout",
     "output_type": "stream",
     "text": [
      "Abstract Base Class\n",
      "subclass \n"
     ]
    }
   ],
   "source": [
    "# Python program invoking a  \n",
    "# method using super() \n",
    "  \n",
    "import abc \n",
    "from abc import ABC, abstractmethod \n",
    "  \n",
    "class R(ABC): \n",
    "    def rk(self): \n",
    "        print(\"Abstract Base Class\") \n",
    "  \n",
    "class K(R): \n",
    "    def rk(self): \n",
    "        super().rk() \n",
    "        print(\"subclass \") \n",
    "  \n",
    "# Driver code \n",
    "r = K()\n",
    "r.rk()"
   ]
  },
  {
   "cell_type": "code",
   "execution_count": 8,
   "metadata": {},
   "outputs": [],
   "source": [
    "r =  R()"
   ]
  },
  {
   "cell_type": "markdown",
   "metadata": {},
   "source": [
    "# Abstract Properties :\n",
    "Abstract classes includes attributes in addition to methods, \n",
    "you can require the attributes in concrete classes \n",
    "by defining them with @abstractproperty."
   ]
  },
  {
   "cell_type": "code",
   "execution_count": 5,
   "metadata": {},
   "outputs": [
    {
     "name": "stdout",
     "output_type": "stream",
     "text": [
      "Can't instantiate abstract class parent with abstract methods func\n",
      "Creating object of Abstarct base class is not allowed\n",
      "child class\n"
     ]
    }
   ],
   "source": [
    "# Python program showing \n",
    "# abstract properties \n",
    "  \n",
    "import abc \n",
    "from abc import ABC\n",
    "  \n",
    "class parent(ABC): \n",
    "    @abc.abstractproperty \n",
    "    def func(self): \n",
    "        return \"parent class\"\n",
    "\n",
    "class child(parent): \n",
    "       \n",
    "    @property\n",
    "    def func(self): \n",
    "        return \"child class\"\n",
    "   \n",
    "   \n",
    "try: \n",
    "    r = parent() \n",
    "    print(r.func) \n",
    "except Exception as err: \n",
    "    print (err) \n",
    "    print(\"Creating object of Abstarct base class is not allowed\")\n",
    "\n",
    "r = child() \n",
    "print (r.func)\n",
    "\n",
    "\n"
   ]
  },
  {
   "cell_type": "code",
   "execution_count": 6,
   "metadata": {},
   "outputs": [
    {
     "ename": "TypeError",
     "evalue": "Can't instantiate abstract class parent with abstract methods func",
     "output_type": "error",
     "traceback": [
      "\u001b[1;31m---------------------------------------------------------------------------\u001b[0m",
      "\u001b[1;31mTypeError\u001b[0m                                 Traceback (most recent call last)",
      "\u001b[1;32m<ipython-input-6-d4b631b417d2>\u001b[0m in \u001b[0;36m<module>\u001b[1;34m\u001b[0m\n\u001b[1;32m----> 1\u001b[1;33m \u001b[0mr\u001b[0m \u001b[1;33m=\u001b[0m\u001b[0mparent\u001b[0m\u001b[1;33m(\u001b[0m\u001b[1;33m)\u001b[0m\u001b[1;33m\u001b[0m\u001b[1;33m\u001b[0m\u001b[0m\n\u001b[0m\u001b[0;32m      2\u001b[0m \u001b[0mprint\u001b[0m\u001b[1;33m(\u001b[0m\u001b[0mr\u001b[0m\u001b[1;33m.\u001b[0m\u001b[0mfunc\u001b[0m\u001b[1;33m)\u001b[0m\u001b[1;33m\u001b[0m\u001b[1;33m\u001b[0m\u001b[0m\n",
      "\u001b[1;31mTypeError\u001b[0m: Can't instantiate abstract class parent with abstract methods func"
     ]
    }
   ],
   "source": [
    "r =parent() \n",
    "print(r.func)"
   ]
  },
  {
   "cell_type": "markdown",
   "metadata": {},
   "source": [
    "# Abstract Class Instantiation :\n",
    "Abstract classes are incomplete because they have methods which have no body. \n",
    "If python allows creating an object for abstract classes then using that \n",
    "object if anyone calls the abstract method, \n",
    "but there is no actual implementation to invoke. \n",
    "So we use an abstract class as a template and according to the need \n",
    "we extend it and build on it before we can use it. \n",
    "Due to the fact, an abstract class is not a concrete class, \n",
    "it cannot be instantiated. \n",
    "When we create an object for the abstract class it raises an error."
   ]
  },
  {
   "cell_type": "code",
   "execution_count": 14,
   "metadata": {},
   "outputs": [
    {
     "name": "stdout",
     "output_type": "stream",
     "text": [
      "I am alive\n",
      "I can walk and run\n",
      "Ruby jain\n"
     ]
    }
   ],
   "source": [
    "# Python program showing \n",
    "# abstract class cannot \n",
    "# be an instantiation \n",
    "from abc import ABC,abstractmethod \n",
    "  \n",
    "class Animal(ABC):\n",
    "    name='Homosepians'\n",
    "    @abstractmethod\n",
    "    def move(self): \n",
    "        print(\"I am alive\")\n",
    "\n",
    "class Human(Animal): \n",
    "    def move(self): \n",
    "        super().move()\n",
    "        print(\"I can walk and run\")\n",
    "        self.name = \"Ruby jain\"\n",
    "        print(self.name)\n",
    "  \n",
    "class Snake(Animal): \n",
    "    def move(self): \n",
    "        print(\"I can crawl\") \n",
    "  \n",
    "class Dog(Animal): \n",
    "    def move(self): \n",
    "        print(\"I can bark\") \n",
    "  \n",
    "class Lion(Animal): \n",
    "    def move(self): \n",
    "        print(\"I can roar\") \n",
    "  \n",
    " \n",
    "h = Human()\n",
    "h.move()\n",
    "\n",
    "#c= Animal()"
   ]
  },
  {
   "cell_type": "markdown",
   "metadata": {},
   "source": [
    "# Interface\n",
    "The idea of interface is really simple - it is the description of how an object behaves. \n",
    "An interface tells us what an object can do to play it’s role in a system. \n",
    "In object oriented programming, an interface is a set of publicly accessible methods on an object which can be used by other parts of the program to interact with that object. \n",
    "Interfaces set clear boundaries and help us organize our code better. \n",
    "In some langauges like Java, interfaces are part of the language syntax and strictly enforced. However, in Python, things are a little different. \n",
    "In this post, we will explore how interfaces can be implemented in Python."
   ]
  },
  {
   "cell_type": "markdown",
   "metadata": {},
   "source": [
    "There’s no interface keyword in Python. The Java / C# way of using interfaces is not available here. In the dynamic language world, things are more implicit. We’re more focused on how an object behaves, rather than it’s type/class."
   ]
  },
  {
   "cell_type": "code",
   "execution_count": 10,
   "metadata": {},
   "outputs": [
    {
     "name": "stdout",
     "output_type": "stream",
     "text": [
      "3\n",
      "True\n",
      "False\n",
      "True\n"
     ]
    }
   ],
   "source": [
    "class Team:\n",
    "    def __init__(self, members):\n",
    "        self.__members = members\n",
    "\n",
    "    def __len__(self):\n",
    "        return len(self.__members)\n",
    "\n",
    "    def __contains__(self, member):\n",
    "        return member in self.__members\n",
    "\n",
    "\n",
    "justice_league_fav = Team([\"batman\", \"wonder woman\", \"flash\"])\n",
    "\n",
    "# Sized protocol\n",
    "print(len(justice_league_fav))\n",
    "\n",
    "# Container protocol\n",
    "print(\"batman\" in justice_league_fav)\n",
    "print(\"superman\" in justice_league_fav)\n",
    "print(\"cyborg\" not in justice_league_fav)"
   ]
  },
  {
   "cell_type": "code",
   "execution_count": 52,
   "metadata": {},
   "outputs": [
    {
     "ename": "ModuleNotFoundError",
     "evalue": "No module named 'zope'",
     "output_type": "error",
     "traceback": [
      "\u001b[1;31m---------------------------------------------------------------------------\u001b[0m",
      "\u001b[1;31mModuleNotFoundError\u001b[0m                       Traceback (most recent call last)",
      "\u001b[1;32m<ipython-input-52-ccb97f97c6a5>\u001b[0m in \u001b[0;36m<module>\u001b[1;34m\u001b[0m\n\u001b[1;32m----> 1\u001b[1;33m \u001b[1;32mimport\u001b[0m \u001b[0mzope\u001b[0m\u001b[1;33m.\u001b[0m\u001b[0minterface\u001b[0m\u001b[1;33m\u001b[0m\u001b[1;33m\u001b[0m\u001b[0m\n\u001b[0m",
      "\u001b[1;31mModuleNotFoundError\u001b[0m: No module named 'zope'"
     ]
    }
   ],
   "source": [
    "import zope.interface"
   ]
  },
  {
   "cell_type": "code",
   "execution_count": 53,
   "metadata": {},
   "outputs": [
    {
     "ename": "ModuleNotFoundError",
     "evalue": "No module named 'interface'",
     "output_type": "error",
     "traceback": [
      "\u001b[1;31m---------------------------------------------------------------------------\u001b[0m",
      "\u001b[1;31mModuleNotFoundError\u001b[0m                       Traceback (most recent call last)",
      "\u001b[1;32m<ipython-input-53-27410d1542c9>\u001b[0m in \u001b[0;36m<module>\u001b[1;34m\u001b[0m\n\u001b[1;32m----> 1\u001b[1;33m \u001b[1;32mimport\u001b[0m \u001b[0minterface\u001b[0m\u001b[1;33m.\u001b[0m\u001b[0mInterface\u001b[0m\u001b[1;33m\u001b[0m\u001b[1;33m\u001b[0m\u001b[0m\n\u001b[0m",
      "\u001b[1;31mModuleNotFoundError\u001b[0m: No module named 'interface'"
     ]
    }
   ],
   "source": [
    "import interface.Interface"
   ]
  },
  {
   "cell_type": "code",
   "execution_count": null,
   "metadata": {},
   "outputs": [],
   "source": []
  }
 ],
 "metadata": {
  "kernelspec": {
   "display_name": "Python 3",
   "language": "python",
   "name": "python3"
  },
  "language_info": {
   "codemirror_mode": {
    "name": "ipython",
    "version": 3
   },
   "file_extension": ".py",
   "mimetype": "text/x-python",
   "name": "python",
   "nbconvert_exporter": "python",
   "pygments_lexer": "ipython3",
   "version": "3.7.4"
  }
 },
 "nbformat": 4,
 "nbformat_minor": 2
}

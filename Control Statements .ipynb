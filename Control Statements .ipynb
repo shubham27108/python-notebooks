{
 "cells": [
  {
   "cell_type": "markdown",
   "metadata": {},
   "source": [
    "This is my first class"
   ]
  },
  {
   "cell_type": "raw",
   "metadata": {},
   "source": [
    "This is me first time with Notebook"
   ]
  },
  {
   "cell_type": "markdown",
   "metadata": {},
   "source": [
    "# Controls:\n",
    "1. If\n",
    "2. Else\n",
    "3. Elseif"
   ]
  },
  {
   "cell_type": "code",
   "execution_count": 8,
   "metadata": {},
   "outputs": [],
   "source": [
    "import numpy"
   ]
  },
  {
   "cell_type": "code",
   "execution_count": 9,
   "metadata": {},
   "outputs": [],
   "source": [
    "a = numpy.arange(10)"
   ]
  },
  {
   "cell_type": "code",
   "execution_count": 10,
   "metadata": {},
   "outputs": [
    {
     "data": {
      "text/plain": [
       "array([0, 1, 2, 3, 4, 5, 6, 7, 8, 9])"
      ]
     },
     "execution_count": 10,
     "metadata": {},
     "output_type": "execute_result"
    }
   ],
   "source": [
    "a"
   ]
  },
  {
   "cell_type": "code",
   "execution_count": 11,
   "metadata": {},
   "outputs": [
    {
     "data": {
      "text/plain": [
       "30"
      ]
     },
     "execution_count": 11,
     "metadata": {},
     "output_type": "execute_result"
    }
   ],
   "source": [
    "10 + 20"
   ]
  },
  {
   "cell_type": "code",
   "execution_count": 4,
   "metadata": {},
   "outputs": [
    {
     "name": "stdout",
     "output_type": "stream",
     "text": [
      "In IF BLOCK\n",
      "b is greater than a\n",
      "end of if\n"
     ]
    }
   ],
   "source": [
    "a = 3\n",
    "b = 2\n",
    "if a > b:\n",
    "    print('In IF BLOCK')\n",
    "    print(\"b is greater than a\")\n",
    "    \n",
    "print('end of if')"
   ]
  },
  {
   "cell_type": "code",
   "execution_count": 5,
   "metadata": {},
   "outputs": [],
   "source": [
    "a = 3\n",
    "b = 2\n",
    "if b > a:\n",
    "    print(\"b is greater than a\")\n"
   ]
  },
  {
   "cell_type": "code",
   "execution_count": 7,
   "metadata": {},
   "outputs": [
    {
     "name": "stdout",
     "output_type": "stream",
     "text": [
      "b is greater than a\n"
     ]
    }
   ],
   "source": [
    "a = 33\n",
    "b = 200\n",
    "if b > a:\n",
    "    print(\"b is greater than a\")\n",
    "else:\n",
    "    print(\"a is greater than b\")"
   ]
  },
  {
   "cell_type": "code",
   "execution_count": 10,
   "metadata": {},
   "outputs": [
    {
     "name": "stdout",
     "output_type": "stream",
     "text": [
      "hello\n"
     ]
    }
   ],
   "source": [
    "if 1<5:\n",
    "    print(\"hello\")"
   ]
  },
  {
   "cell_type": "code",
   "execution_count": 13,
   "metadata": {},
   "outputs": [
    {
     "name": "stdout",
     "output_type": "stream",
     "text": [
      "b is greater than a\n"
     ]
    }
   ],
   "source": [
    "a = 200\n",
    "b = 100\n",
    "if b > a:\n",
    "    print(\"b is greater than a\")\n",
    "elif (a == b):\n",
    "    print(\"a and b are equal\")\n"
   ]
  },
  {
   "cell_type": "code",
   "execution_count": 14,
   "metadata": {},
   "outputs": [
    {
     "name": "stdout",
     "output_type": "stream",
     "text": [
      "a is greater than b\n"
     ]
    }
   ],
   "source": [
    "a = 9\n",
    "b = 2\n",
    "if b > a:\n",
    "    print(\"b is greater than a\")\n",
    "elif (a == b):\n",
    "    print(\"a and b are equal\")\n",
    "else:\n",
    "    print(\"a is greater than b\")"
   ]
  },
  {
   "cell_type": "code",
   "execution_count": 15,
   "metadata": {},
   "outputs": [
    {
     "name": "stdout",
     "output_type": "stream",
     "text": [
      "a is greater than b\n",
      "Hello\n"
     ]
    }
   ],
   "source": [
    "a = 30\n",
    "b = 20\n",
    "if a > b: \n",
    "    print(\"a is greater than b\") \n",
    "    print('Hello')\n",
    "    "
   ]
  },
  {
   "cell_type": "code",
   "execution_count": 22,
   "metadata": {},
   "outputs": [
    {
     "name": "stdout",
     "output_type": "stream",
     "text": [
      "a is greater than b\n"
     ]
    }
   ],
   "source": [
    "a = 30\n",
    "b = 20\n",
    "if a > b: \n",
    "    print(\"a is greater than b\") \n",
    "else: \n",
    "    print('b is greater')"
   ]
  },
  {
   "cell_type": "code",
   "execution_count": 16,
   "metadata": {},
   "outputs": [
    {
     "name": "stdout",
     "output_type": "stream",
     "text": [
      "B\n"
     ]
    }
   ],
   "source": [
    "b = 20\n",
    "a = 33\n",
    "print(\"A\") if a > b else print(\"B\") "
   ]
  },
  {
   "cell_type": "code",
   "execution_count": 19,
   "metadata": {},
   "outputs": [
    {
     "name": "stdout",
     "output_type": "stream",
     "text": [
      "x is greater than y\n"
     ]
    }
   ],
   "source": [
    "x,y =8,5\n",
    "\n",
    "if(x < y):\n",
    "    st= \"x is less than y\"\n",
    "\n",
    "elif (x == y):\n",
    "    st= \"x is same as y\"\n",
    "else:\n",
    "    st=\"x is greater than y\"\n",
    "print(st)"
   ]
  },
  {
   "cell_type": "markdown",
   "metadata": {},
   "source": [
    "### WAP in python for giving suggestions regarding shopping:\n",
    "\n",
    "Conditions:\n",
    "1. Acc balance >=20K and it should be a holiday Go for Shopping.\n",
    "2. Acc bal>= 20K and working day follow your routine.\n",
    "3. Acc bal<=20K and holiday Stay at home, Enjoy time with family.\n",
    "\n",
    "Is it possible to solve the problem statement using ternary operator. Justify your answer.\n"
   ]
  },
  {
   "cell_type": "code",
   "execution_count": 35,
   "metadata": {},
   "outputs": [
    {
     "name": "stdout",
     "output_type": "stream",
     "text": [
      "Enter a day :no\n",
      "Follow you routine\n"
     ]
    }
   ],
   "source": [
    "day = input(\"Enter a day :\")\n",
    "if day == \"holiday\":\n",
    "  accBal = int(input(\"Enter the Amount :\"))\n",
    "  if accBal >= 20000:\n",
    "    print(\"Go to shopping\")\n",
    "  else:\n",
    "    print(\"Stay Home\")\n",
    "else :\n",
    "  print(\"Follow you routine\")"
   ]
  },
  {
   "cell_type": "code",
   "execution_count": 17,
   "metadata": {},
   "outputs": [
    {
     "name": "stdout",
     "output_type": "stream",
     "text": [
      "B\n"
     ]
    }
   ],
   "source": [
    "a = 30\n",
    "b = 380\n",
    "print(\"A\") if a > b else print(\"=\") if a == b else print(\"B\") "
   ]
  },
  {
   "cell_type": "code",
   "execution_count": 26,
   "metadata": {},
   "outputs": [
    {
     "name": "stdout",
     "output_type": "stream",
     "text": [
      "A is greater\n"
     ]
    }
   ],
   "source": [
    "a = 200\n",
    "b = 33\n",
    "c = 50\n",
    "if a > b and a > c:\n",
    "    print(\"A is greater\")"
   ]
  },
  {
   "cell_type": "code",
   "execution_count": 29,
   "metadata": {},
   "outputs": [],
   "source": [
    "a = 3\n",
    "b = 6\n",
    "c = 55\n",
    "if (a > b or c == a):\n",
    "    print(\"At least one of the conditions is True\")"
   ]
  },
  {
   "cell_type": "code",
   "execution_count": 39,
   "metadata": {},
   "outputs": [
    {
     "name": "stdout",
     "output_type": "stream",
     "text": [
      "Above ten\n",
      "but not above 20.\n"
     ]
    }
   ],
   "source": [
    "x = 12\n",
    "if x > 10:\n",
    "    print(\"Above ten\")\n",
    "    if x > 20:\n",
    "        print(\"and also above 20!\")\n",
    "    else:\n",
    "        print(\"but not above 20.\") \n",
    "else:\n",
    "    print(\"less than 10\")"
   ]
  },
  {
   "cell_type": "code",
   "execution_count": 28,
   "metadata": {},
   "outputs": [
    {
     "name": "stdout",
     "output_type": "stream",
     "text": [
      "4\n"
     ]
    }
   ],
   "source": [
    "# Write code to check which is greater among  \n",
    "#4 given numbers\n",
    "\n",
    "max = max(1,2,3,4)\n",
    "print(max)"
   ]
  },
  {
   "cell_type": "code",
   "execution_count": null,
   "metadata": {},
   "outputs": [],
   "source": [
    "a =6\n",
    "b=15\n",
    "c=10\n",
    "d=5\n",
    "if a > b and a > c and a> d:\n",
    "  print ('A')\n",
    "elif b > c and b > d:\n",
    "  print ('B')\n",
    "elif c > d:\n",
    "  print ('C')\n",
    "else: \n",
    "  print ('d')"
   ]
  },
  {
   "cell_type": "code",
   "execution_count": null,
   "metadata": {},
   "outputs": [],
   "source": [
    "a=1\n",
    "b=2\n",
    "c=3\n",
    "d=1\n",
    "if(a>b):\n",
    "    if(a>c):\n",
    "        if(a>d):\n",
    "            print(\"A is greater\")\n",
    "        else:\n",
    "            print(\"D is greater\")\n",
    "elif (b>c):\n",
    "    if(b>d):\n",
    "        print(\"B is greater\")\n",
    "    else:\n",
    "        print(\"D is greater\")\n",
    "elif (c>d):\n",
    "    print(\"C is greater\")\n",
    "else:\n",
    "    print(\"D is greater\")"
   ]
  },
  {
   "cell_type": "code",
   "execution_count": 35,
   "metadata": {},
   "outputs": [
    {
     "name": "stdout",
     "output_type": "stream",
     "text": [
      "10000\n"
     ]
    }
   ],
   "source": [
    "a=6000\n",
    "b=7\n",
    "c=10000\n",
    "d=5\n",
    "if a>b:\n",
    "    var = a\n",
    "else:\n",
    "    var = b\n",
    "if c>d:\n",
    "    var1= c\n",
    "else:\n",
    "    var1=d\n",
    "if (var > var1):\n",
    "    print(var)\n",
    "else:\n",
    "    print(var1)"
   ]
  },
  {
   "cell_type": "code",
   "execution_count": 30,
   "metadata": {},
   "outputs": [
    {
     "name": "stdout",
     "output_type": "stream",
     "text": [
      "Shipping Cost is $25\n"
     ]
    }
   ],
   "source": [
    "#Uncomment Line 2 in above code and comment Line 3 and run the code again\n",
    "total = 100\n",
    "country = \"US\"\n",
    "#country = \"AU\"\n",
    "if country == \"US\":\n",
    "    if total <= 50:\n",
    "        print(\"Shipping Cost is  $50\")\n",
    "    elif total == 100:\n",
    "        print(\"Shipping Cost is $25\")\n",
    "    elif total <= 150:\n",
    "        print(\"Shipping Costs $5\")\n",
    "    else:\n",
    "        print(\"FREE\")\n",
    "    \n",
    "if country == \"AU\": \n",
    "    if total <= 50:\n",
    "        print(\"Shipping Cost is  $100\")\n",
    "    else:\n",
    "        print(\"FREE\")"
   ]
  },
  {
   "cell_type": "code",
   "execution_count": null,
   "metadata": {},
   "outputs": [],
   "source": [
    "# write code to suggest what to do on a perticular day.\n",
    "# If its a sunday and you have more than 20000 rs in your account \n",
    "#go for shopping.\n",
    "# If its a sunday and you don't have more than 20000 rs \n",
    "#in your account watch TV.\n",
    "# else normal routine work or regular working days."
   ]
  },
  {
   "cell_type": "code",
   "execution_count": null,
   "metadata": {},
   "outputs": [],
   "source": [
    "today = \"holiday\"\n",
    "bank_balance = 25000\n",
    "if today == \"holiday\":\n",
    "    if bank_balance > 20000:\n",
    "        print(\"Go for shopping\")\n",
    "    else:\n",
    "        print(\"Watch TV\")\n",
    "else:\n",
    "    print(\"normal working day\")\n"
   ]
  },
  {
   "cell_type": "markdown",
   "metadata": {},
   "source": [
    "# accept a string from user reply whats the day today. \n",
    "e.g. Monday or monday , msg Wow, its very first day of the week.\n",
    "\n",
    "Tuesday or tuesday , msg back welcome on day 2.\n",
    "\n",
    "Wednesday, msg, Mid of the week.\n",
    "\n",
    "Thursday, msg two more days to go.\n",
    "\n",
    "Friday, msg , Thank God It's friday.\n",
    "\n",
    "Saturday or Sunday, Enjoy Yoir weekend."
   ]
  },
  {
   "cell_type": "code",
   "execution_count": 37,
   "metadata": {},
   "outputs": [
    {
     "name": "stdout",
     "output_type": "stream",
     "text": [
      "10 is smaller\n"
     ]
    }
   ],
   "source": [
    "m = 10>20\n",
    "if m:\n",
    "    print(\"10 is bigger\")\n",
    "else:\n",
    "    print('10 is smaller')"
   ]
  },
  {
   "cell_type": "code",
   "execution_count": null,
   "metadata": {},
   "outputs": [],
   "source": []
  }
 ],
 "metadata": {
  "kernelspec": {
   "display_name": "Python 3",
   "language": "python",
   "name": "python3"
  },
  "language_info": {
   "codemirror_mode": {
    "name": "ipython",
    "version": 3
   },
   "file_extension": ".py",
   "mimetype": "text/x-python",
   "name": "python",
   "nbconvert_exporter": "python",
   "pygments_lexer": "ipython3",
   "version": "3.7.4"
  }
 },
 "nbformat": 4,
 "nbformat_minor": 2
}
